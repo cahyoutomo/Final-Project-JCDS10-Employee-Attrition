{
 "cells": [
  {
   "cell_type": "markdown",
   "metadata": {},
   "source": [
    "# **Employee Retriction Prediction (Part 2. ML)**\n",
    "Final Project Purwadhika JCDS-10\n",
    "\n",
    "Cahyo Pambudi Utomo"
   ]
  },
  {
   "cell_type": "code",
   "execution_count": 1,
   "metadata": {},
   "outputs": [],
   "source": [
    "import pandas as pd \n",
    "import numpy as np\n",
    "import matplotlib.pyplot as plt\n",
    "import seaborn as sns\n",
    "pd.set_option('display.max_columns', None)\n",
    "\n",
    "%matplotlib inline"
   ]
  },
  {
   "cell_type": "code",
   "execution_count": 2,
   "metadata": {},
   "outputs": [],
   "source": [
    "import warnings \n",
    "warnings.filterwarnings('ignore')"
   ]
  },
  {
   "cell_type": "code",
   "execution_count": 3,
   "metadata": {},
   "outputs": [],
   "source": [
    "from sklearn.model_selection import cross_val_score, train_test_split\n",
    "from sklearn.preprocessing import RobustScaler, StandardScaler\n",
    "from sklearn.metrics import classification_report, confusion_matrix, recall_score, precision_score, f1_score, accuracy_score, log_loss, roc_auc_score, auc, roc_curve\n",
    "from sklearn.pipeline import Pipeline\n",
    "from sklearn.impute import SimpleImputer\n",
    "from sklearn.preprocessing import OneHotEncoder, LabelEncoder, MinMaxScaler, StandardScaler, RobustScaler\n",
    "from sklearn.utils import resample"
   ]
  },
  {
   "cell_type": "code",
   "execution_count": 4,
   "metadata": {},
   "outputs": [],
   "source": [
    "from sklearn.linear_model import LogisticRegression\n",
    "from sklearn.svm import SVC\n",
    "from sklearn.linear_model import SGDClassifier\n",
    "from sklearn.tree import DecisionTreeClassifier\n",
    "from sklearn.ensemble import RandomForestClassifier\n",
    "from sklearn.model_selection import GridSearchCV, RandomizedSearchCV\n",
    "from sklearn.neighbors import KNeighborsClassifier"
   ]
  },
  {
   "cell_type": "code",
   "execution_count": 5,
   "metadata": {},
   "outputs": [],
   "source": [
    "from xgboost import XGBClassifier\n",
    "import joblib\n",
    "from imblearn.over_sampling import SMOTE"
   ]
  },
  {
   "cell_type": "markdown",
   "metadata": {},
   "source": [
    "# Load Dataset"
   ]
  },
  {
   "cell_type": "code",
   "execution_count": 6,
   "metadata": {},
   "outputs": [],
   "source": [
    "df= pd.read_csv('/Users/cahyopambudiutomo/Documents/Purwadhika/Final Project/JCDS Cahyo/Dataset/data_clean.csv')"
   ]
  },
  {
   "cell_type": "code",
   "execution_count": 7,
   "metadata": {},
   "outputs": [
    {
     "data": {
      "text/html": [
       "<div>\n",
       "<style scoped>\n",
       "    .dataframe tbody tr th:only-of-type {\n",
       "        vertical-align: middle;\n",
       "    }\n",
       "\n",
       "    .dataframe tbody tr th {\n",
       "        vertical-align: top;\n",
       "    }\n",
       "\n",
       "    .dataframe thead th {\n",
       "        text-align: right;\n",
       "    }\n",
       "</style>\n",
       "<table border=\"1\" class=\"dataframe\">\n",
       "  <thead>\n",
       "    <tr style=\"text-align: right;\">\n",
       "      <th></th>\n",
       "      <th>EnvironmentSatisfaction</th>\n",
       "      <th>JobSatisfaction</th>\n",
       "      <th>WorkLifeBalance</th>\n",
       "      <th>Age</th>\n",
       "      <th>Attrition</th>\n",
       "      <th>BusinessTravel</th>\n",
       "      <th>Department</th>\n",
       "      <th>DistanceFromHome</th>\n",
       "      <th>Education</th>\n",
       "      <th>EducationField</th>\n",
       "      <th>Gender</th>\n",
       "      <th>JobLevel</th>\n",
       "      <th>JobRole</th>\n",
       "      <th>MaritalStatus</th>\n",
       "      <th>MonthlyIncome</th>\n",
       "      <th>NumCompaniesWorked</th>\n",
       "      <th>PercentSalaryHike</th>\n",
       "      <th>StockOptionLevel</th>\n",
       "      <th>TotalWorkingYears</th>\n",
       "      <th>TrainingTimesLastYear</th>\n",
       "      <th>YearsAtCompany</th>\n",
       "      <th>YearsSinceLastPromotion</th>\n",
       "      <th>YearsWithCurrManager</th>\n",
       "      <th>JobInvolvement</th>\n",
       "      <th>PerformanceRating</th>\n",
       "      <th>WorkingHours</th>\n",
       "    </tr>\n",
       "  </thead>\n",
       "  <tbody>\n",
       "    <tr>\n",
       "      <th>0</th>\n",
       "      <td>3.0</td>\n",
       "      <td>4.0</td>\n",
       "      <td>2.0</td>\n",
       "      <td>51</td>\n",
       "      <td>No</td>\n",
       "      <td>Travel_Rarely</td>\n",
       "      <td>Sales</td>\n",
       "      <td>6</td>\n",
       "      <td>2</td>\n",
       "      <td>Life Sciences</td>\n",
       "      <td>Female</td>\n",
       "      <td>1</td>\n",
       "      <td>Healthcare Representative</td>\n",
       "      <td>Married</td>\n",
       "      <td>131160</td>\n",
       "      <td>1.0</td>\n",
       "      <td>11</td>\n",
       "      <td>0</td>\n",
       "      <td>1.0</td>\n",
       "      <td>6</td>\n",
       "      <td>1</td>\n",
       "      <td>0</td>\n",
       "      <td>0</td>\n",
       "      <td>3</td>\n",
       "      <td>3</td>\n",
       "      <td>6.870229</td>\n",
       "    </tr>\n",
       "    <tr>\n",
       "      <th>1</th>\n",
       "      <td>3.0</td>\n",
       "      <td>2.0</td>\n",
       "      <td>4.0</td>\n",
       "      <td>31</td>\n",
       "      <td>Yes</td>\n",
       "      <td>Travel_Frequently</td>\n",
       "      <td>Research &amp; Development</td>\n",
       "      <td>10</td>\n",
       "      <td>1</td>\n",
       "      <td>Life Sciences</td>\n",
       "      <td>Female</td>\n",
       "      <td>1</td>\n",
       "      <td>Research Scientist</td>\n",
       "      <td>Single</td>\n",
       "      <td>41890</td>\n",
       "      <td>0.0</td>\n",
       "      <td>23</td>\n",
       "      <td>1</td>\n",
       "      <td>6.0</td>\n",
       "      <td>3</td>\n",
       "      <td>5</td>\n",
       "      <td>1</td>\n",
       "      <td>4</td>\n",
       "      <td>2</td>\n",
       "      <td>4</td>\n",
       "      <td>7.315971</td>\n",
       "    </tr>\n",
       "    <tr>\n",
       "      <th>2</th>\n",
       "      <td>2.0</td>\n",
       "      <td>2.0</td>\n",
       "      <td>1.0</td>\n",
       "      <td>32</td>\n",
       "      <td>No</td>\n",
       "      <td>Travel_Frequently</td>\n",
       "      <td>Research &amp; Development</td>\n",
       "      <td>17</td>\n",
       "      <td>4</td>\n",
       "      <td>Other</td>\n",
       "      <td>Male</td>\n",
       "      <td>4</td>\n",
       "      <td>Sales Executive</td>\n",
       "      <td>Married</td>\n",
       "      <td>193280</td>\n",
       "      <td>1.0</td>\n",
       "      <td>15</td>\n",
       "      <td>3</td>\n",
       "      <td>5.0</td>\n",
       "      <td>2</td>\n",
       "      <td>5</td>\n",
       "      <td>0</td>\n",
       "      <td>3</td>\n",
       "      <td>3</td>\n",
       "      <td>3</td>\n",
       "      <td>6.816081</td>\n",
       "    </tr>\n",
       "    <tr>\n",
       "      <th>3</th>\n",
       "      <td>4.0</td>\n",
       "      <td>4.0</td>\n",
       "      <td>3.0</td>\n",
       "      <td>38</td>\n",
       "      <td>No</td>\n",
       "      <td>Non-Travel</td>\n",
       "      <td>Research &amp; Development</td>\n",
       "      <td>2</td>\n",
       "      <td>5</td>\n",
       "      <td>Life Sciences</td>\n",
       "      <td>Male</td>\n",
       "      <td>3</td>\n",
       "      <td>Human Resources</td>\n",
       "      <td>Married</td>\n",
       "      <td>83210</td>\n",
       "      <td>3.0</td>\n",
       "      <td>11</td>\n",
       "      <td>3</td>\n",
       "      <td>13.0</td>\n",
       "      <td>5</td>\n",
       "      <td>8</td>\n",
       "      <td>7</td>\n",
       "      <td>5</td>\n",
       "      <td>2</td>\n",
       "      <td>3</td>\n",
       "      <td>6.789215</td>\n",
       "    </tr>\n",
       "    <tr>\n",
       "      <th>4</th>\n",
       "      <td>4.0</td>\n",
       "      <td>1.0</td>\n",
       "      <td>3.0</td>\n",
       "      <td>32</td>\n",
       "      <td>No</td>\n",
       "      <td>Travel_Rarely</td>\n",
       "      <td>Research &amp; Development</td>\n",
       "      <td>10</td>\n",
       "      <td>1</td>\n",
       "      <td>Medical</td>\n",
       "      <td>Male</td>\n",
       "      <td>1</td>\n",
       "      <td>Sales Executive</td>\n",
       "      <td>Single</td>\n",
       "      <td>23420</td>\n",
       "      <td>4.0</td>\n",
       "      <td>12</td>\n",
       "      <td>2</td>\n",
       "      <td>9.0</td>\n",
       "      <td>2</td>\n",
       "      <td>6</td>\n",
       "      <td>0</td>\n",
       "      <td>4</td>\n",
       "      <td>3</td>\n",
       "      <td>3</td>\n",
       "      <td>7.877561</td>\n",
       "    </tr>\n",
       "  </tbody>\n",
       "</table>\n",
       "</div>"
      ],
      "text/plain": [
       "   EnvironmentSatisfaction  JobSatisfaction  WorkLifeBalance  Age Attrition  \\\n",
       "0                      3.0              4.0              2.0   51        No   \n",
       "1                      3.0              2.0              4.0   31       Yes   \n",
       "2                      2.0              2.0              1.0   32        No   \n",
       "3                      4.0              4.0              3.0   38        No   \n",
       "4                      4.0              1.0              3.0   32        No   \n",
       "\n",
       "      BusinessTravel              Department  DistanceFromHome  Education  \\\n",
       "0      Travel_Rarely                   Sales                 6          2   \n",
       "1  Travel_Frequently  Research & Development                10          1   \n",
       "2  Travel_Frequently  Research & Development                17          4   \n",
       "3         Non-Travel  Research & Development                 2          5   \n",
       "4      Travel_Rarely  Research & Development                10          1   \n",
       "\n",
       "  EducationField  Gender  JobLevel                    JobRole MaritalStatus  \\\n",
       "0  Life Sciences  Female         1  Healthcare Representative       Married   \n",
       "1  Life Sciences  Female         1         Research Scientist        Single   \n",
       "2          Other    Male         4            Sales Executive       Married   \n",
       "3  Life Sciences    Male         3            Human Resources       Married   \n",
       "4        Medical    Male         1            Sales Executive        Single   \n",
       "\n",
       "   MonthlyIncome  NumCompaniesWorked  PercentSalaryHike  StockOptionLevel  \\\n",
       "0         131160                 1.0                 11                 0   \n",
       "1          41890                 0.0                 23                 1   \n",
       "2         193280                 1.0                 15                 3   \n",
       "3          83210                 3.0                 11                 3   \n",
       "4          23420                 4.0                 12                 2   \n",
       "\n",
       "   TotalWorkingYears  TrainingTimesLastYear  YearsAtCompany  \\\n",
       "0                1.0                      6               1   \n",
       "1                6.0                      3               5   \n",
       "2                5.0                      2               5   \n",
       "3               13.0                      5               8   \n",
       "4                9.0                      2               6   \n",
       "\n",
       "   YearsSinceLastPromotion  YearsWithCurrManager  JobInvolvement  \\\n",
       "0                        0                     0               3   \n",
       "1                        1                     4               2   \n",
       "2                        0                     3               3   \n",
       "3                        7                     5               2   \n",
       "4                        0                     4               3   \n",
       "\n",
       "   PerformanceRating  WorkingHours  \n",
       "0                  3      6.870229  \n",
       "1                  4      7.315971  \n",
       "2                  3      6.816081  \n",
       "3                  3      6.789215  \n",
       "4                  3      7.877561  "
      ]
     },
     "execution_count": 7,
     "metadata": {},
     "output_type": "execute_result"
    }
   ],
   "source": [
    "df.head()"
   ]
  },
  {
   "cell_type": "code",
   "execution_count": 8,
   "metadata": {},
   "outputs": [
    {
     "data": {
      "text/plain": [
       "(4410, 26)"
      ]
     },
     "execution_count": 8,
     "metadata": {},
     "output_type": "execute_result"
    }
   ],
   "source": [
    "df.shape"
   ]
  },
  {
   "cell_type": "code",
   "execution_count": 9,
   "metadata": {},
   "outputs": [
    {
     "data": {
      "text/html": [
       "<div>\n",
       "<style scoped>\n",
       "    .dataframe tbody tr th:only-of-type {\n",
       "        vertical-align: middle;\n",
       "    }\n",
       "\n",
       "    .dataframe tbody tr th {\n",
       "        vertical-align: top;\n",
       "    }\n",
       "\n",
       "    .dataframe thead th {\n",
       "        text-align: right;\n",
       "    }\n",
       "</style>\n",
       "<table border=\"1\" class=\"dataframe\">\n",
       "  <thead>\n",
       "    <tr style=\"text-align: right;\">\n",
       "      <th></th>\n",
       "      <th>EnvironmentSatisfaction</th>\n",
       "      <th>JobSatisfaction</th>\n",
       "      <th>WorkLifeBalance</th>\n",
       "      <th>Age</th>\n",
       "      <th>DistanceFromHome</th>\n",
       "      <th>Education</th>\n",
       "      <th>JobLevel</th>\n",
       "      <th>MonthlyIncome</th>\n",
       "      <th>NumCompaniesWorked</th>\n",
       "      <th>PercentSalaryHike</th>\n",
       "      <th>StockOptionLevel</th>\n",
       "      <th>TotalWorkingYears</th>\n",
       "      <th>TrainingTimesLastYear</th>\n",
       "      <th>YearsAtCompany</th>\n",
       "      <th>YearsSinceLastPromotion</th>\n",
       "      <th>YearsWithCurrManager</th>\n",
       "      <th>JobInvolvement</th>\n",
       "      <th>PerformanceRating</th>\n",
       "      <th>WorkingHours</th>\n",
       "    </tr>\n",
       "  </thead>\n",
       "  <tbody>\n",
       "    <tr>\n",
       "      <th>count</th>\n",
       "      <td>4410.000000</td>\n",
       "      <td>4410.000000</td>\n",
       "      <td>4410.000000</td>\n",
       "      <td>4410.000000</td>\n",
       "      <td>4410.000000</td>\n",
       "      <td>4410.000000</td>\n",
       "      <td>4410.000000</td>\n",
       "      <td>4410.000000</td>\n",
       "      <td>4410.000000</td>\n",
       "      <td>4410.000000</td>\n",
       "      <td>4410.000000</td>\n",
       "      <td>4410.000000</td>\n",
       "      <td>4410.000000</td>\n",
       "      <td>4410.000000</td>\n",
       "      <td>4410.000000</td>\n",
       "      <td>4410.000000</td>\n",
       "      <td>4410.000000</td>\n",
       "      <td>4410.000000</td>\n",
       "      <td>4410.000000</td>\n",
       "    </tr>\n",
       "    <tr>\n",
       "      <th>mean</th>\n",
       "      <td>2.725170</td>\n",
       "      <td>2.729478</td>\n",
       "      <td>2.763492</td>\n",
       "      <td>36.923810</td>\n",
       "      <td>9.192517</td>\n",
       "      <td>2.912925</td>\n",
       "      <td>2.063946</td>\n",
       "      <td>65029.312925</td>\n",
       "      <td>2.691837</td>\n",
       "      <td>15.209524</td>\n",
       "      <td>0.793878</td>\n",
       "      <td>11.277324</td>\n",
       "      <td>2.799320</td>\n",
       "      <td>7.008163</td>\n",
       "      <td>2.187755</td>\n",
       "      <td>4.123129</td>\n",
       "      <td>2.729932</td>\n",
       "      <td>3.153741</td>\n",
       "      <td>7.314363</td>\n",
       "    </tr>\n",
       "    <tr>\n",
       "      <th>std</th>\n",
       "      <td>1.089852</td>\n",
       "      <td>1.098904</td>\n",
       "      <td>0.703541</td>\n",
       "      <td>9.133301</td>\n",
       "      <td>8.105026</td>\n",
       "      <td>1.023933</td>\n",
       "      <td>1.106689</td>\n",
       "      <td>47068.888559</td>\n",
       "      <td>2.493912</td>\n",
       "      <td>3.659108</td>\n",
       "      <td>0.851883</td>\n",
       "      <td>7.774490</td>\n",
       "      <td>1.288978</td>\n",
       "      <td>6.125135</td>\n",
       "      <td>3.221699</td>\n",
       "      <td>3.567327</td>\n",
       "      <td>0.711400</td>\n",
       "      <td>0.360742</td>\n",
       "      <td>1.330769</td>\n",
       "    </tr>\n",
       "    <tr>\n",
       "      <th>min</th>\n",
       "      <td>1.000000</td>\n",
       "      <td>1.000000</td>\n",
       "      <td>1.000000</td>\n",
       "      <td>18.000000</td>\n",
       "      <td>1.000000</td>\n",
       "      <td>1.000000</td>\n",
       "      <td>1.000000</td>\n",
       "      <td>10090.000000</td>\n",
       "      <td>0.000000</td>\n",
       "      <td>11.000000</td>\n",
       "      <td>0.000000</td>\n",
       "      <td>0.000000</td>\n",
       "      <td>0.000000</td>\n",
       "      <td>0.000000</td>\n",
       "      <td>0.000000</td>\n",
       "      <td>0.000000</td>\n",
       "      <td>1.000000</td>\n",
       "      <td>3.000000</td>\n",
       "      <td>5.416880</td>\n",
       "    </tr>\n",
       "    <tr>\n",
       "      <th>25%</th>\n",
       "      <td>2.000000</td>\n",
       "      <td>2.000000</td>\n",
       "      <td>2.000000</td>\n",
       "      <td>30.000000</td>\n",
       "      <td>2.000000</td>\n",
       "      <td>2.000000</td>\n",
       "      <td>1.000000</td>\n",
       "      <td>29110.000000</td>\n",
       "      <td>1.000000</td>\n",
       "      <td>12.000000</td>\n",
       "      <td>0.000000</td>\n",
       "      <td>6.000000</td>\n",
       "      <td>2.000000</td>\n",
       "      <td>3.000000</td>\n",
       "      <td>0.000000</td>\n",
       "      <td>2.000000</td>\n",
       "      <td>2.000000</td>\n",
       "      <td>3.000000</td>\n",
       "      <td>6.279408</td>\n",
       "    </tr>\n",
       "    <tr>\n",
       "      <th>50%</th>\n",
       "      <td>3.000000</td>\n",
       "      <td>3.000000</td>\n",
       "      <td>3.000000</td>\n",
       "      <td>36.000000</td>\n",
       "      <td>7.000000</td>\n",
       "      <td>3.000000</td>\n",
       "      <td>2.000000</td>\n",
       "      <td>49190.000000</td>\n",
       "      <td>2.000000</td>\n",
       "      <td>14.000000</td>\n",
       "      <td>1.000000</td>\n",
       "      <td>10.000000</td>\n",
       "      <td>3.000000</td>\n",
       "      <td>5.000000</td>\n",
       "      <td>1.000000</td>\n",
       "      <td>3.000000</td>\n",
       "      <td>3.000000</td>\n",
       "      <td>3.000000</td>\n",
       "      <td>7.011174</td>\n",
       "    </tr>\n",
       "    <tr>\n",
       "      <th>75%</th>\n",
       "      <td>4.000000</td>\n",
       "      <td>4.000000</td>\n",
       "      <td>3.000000</td>\n",
       "      <td>43.000000</td>\n",
       "      <td>14.000000</td>\n",
       "      <td>4.000000</td>\n",
       "      <td>3.000000</td>\n",
       "      <td>83800.000000</td>\n",
       "      <td>4.000000</td>\n",
       "      <td>18.000000</td>\n",
       "      <td>1.000000</td>\n",
       "      <td>15.000000</td>\n",
       "      <td>3.000000</td>\n",
       "      <td>9.000000</td>\n",
       "      <td>3.000000</td>\n",
       "      <td>7.000000</td>\n",
       "      <td>3.000000</td>\n",
       "      <td>3.000000</td>\n",
       "      <td>7.900785</td>\n",
       "    </tr>\n",
       "    <tr>\n",
       "      <th>max</th>\n",
       "      <td>4.000000</td>\n",
       "      <td>4.000000</td>\n",
       "      <td>4.000000</td>\n",
       "      <td>60.000000</td>\n",
       "      <td>29.000000</td>\n",
       "      <td>5.000000</td>\n",
       "      <td>5.000000</td>\n",
       "      <td>199990.000000</td>\n",
       "      <td>9.000000</td>\n",
       "      <td>25.000000</td>\n",
       "      <td>3.000000</td>\n",
       "      <td>40.000000</td>\n",
       "      <td>6.000000</td>\n",
       "      <td>40.000000</td>\n",
       "      <td>15.000000</td>\n",
       "      <td>17.000000</td>\n",
       "      <td>4.000000</td>\n",
       "      <td>4.000000</td>\n",
       "      <td>10.937261</td>\n",
       "    </tr>\n",
       "  </tbody>\n",
       "</table>\n",
       "</div>"
      ],
      "text/plain": [
       "       EnvironmentSatisfaction  JobSatisfaction  WorkLifeBalance          Age  \\\n",
       "count              4410.000000      4410.000000      4410.000000  4410.000000   \n",
       "mean                  2.725170         2.729478         2.763492    36.923810   \n",
       "std                   1.089852         1.098904         0.703541     9.133301   \n",
       "min                   1.000000         1.000000         1.000000    18.000000   \n",
       "25%                   2.000000         2.000000         2.000000    30.000000   \n",
       "50%                   3.000000         3.000000         3.000000    36.000000   \n",
       "75%                   4.000000         4.000000         3.000000    43.000000   \n",
       "max                   4.000000         4.000000         4.000000    60.000000   \n",
       "\n",
       "       DistanceFromHome    Education     JobLevel  MonthlyIncome  \\\n",
       "count       4410.000000  4410.000000  4410.000000    4410.000000   \n",
       "mean           9.192517     2.912925     2.063946   65029.312925   \n",
       "std            8.105026     1.023933     1.106689   47068.888559   \n",
       "min            1.000000     1.000000     1.000000   10090.000000   \n",
       "25%            2.000000     2.000000     1.000000   29110.000000   \n",
       "50%            7.000000     3.000000     2.000000   49190.000000   \n",
       "75%           14.000000     4.000000     3.000000   83800.000000   \n",
       "max           29.000000     5.000000     5.000000  199990.000000   \n",
       "\n",
       "       NumCompaniesWorked  PercentSalaryHike  StockOptionLevel  \\\n",
       "count         4410.000000        4410.000000       4410.000000   \n",
       "mean             2.691837          15.209524          0.793878   \n",
       "std              2.493912           3.659108          0.851883   \n",
       "min              0.000000          11.000000          0.000000   \n",
       "25%              1.000000          12.000000          0.000000   \n",
       "50%              2.000000          14.000000          1.000000   \n",
       "75%              4.000000          18.000000          1.000000   \n",
       "max              9.000000          25.000000          3.000000   \n",
       "\n",
       "       TotalWorkingYears  TrainingTimesLastYear  YearsAtCompany  \\\n",
       "count        4410.000000            4410.000000     4410.000000   \n",
       "mean           11.277324               2.799320        7.008163   \n",
       "std             7.774490               1.288978        6.125135   \n",
       "min             0.000000               0.000000        0.000000   \n",
       "25%             6.000000               2.000000        3.000000   \n",
       "50%            10.000000               3.000000        5.000000   \n",
       "75%            15.000000               3.000000        9.000000   \n",
       "max            40.000000               6.000000       40.000000   \n",
       "\n",
       "       YearsSinceLastPromotion  YearsWithCurrManager  JobInvolvement  \\\n",
       "count              4410.000000           4410.000000     4410.000000   \n",
       "mean                  2.187755              4.123129        2.729932   \n",
       "std                   3.221699              3.567327        0.711400   \n",
       "min                   0.000000              0.000000        1.000000   \n",
       "25%                   0.000000              2.000000        2.000000   \n",
       "50%                   1.000000              3.000000        3.000000   \n",
       "75%                   3.000000              7.000000        3.000000   \n",
       "max                  15.000000             17.000000        4.000000   \n",
       "\n",
       "       PerformanceRating  WorkingHours  \n",
       "count        4410.000000   4410.000000  \n",
       "mean            3.153741      7.314363  \n",
       "std             0.360742      1.330769  \n",
       "min             3.000000      5.416880  \n",
       "25%             3.000000      6.279408  \n",
       "50%             3.000000      7.011174  \n",
       "75%             3.000000      7.900785  \n",
       "max             4.000000     10.937261  "
      ]
     },
     "execution_count": 9,
     "metadata": {},
     "output_type": "execute_result"
    }
   ],
   "source": [
    "df.describe()"
   ]
  },
  {
   "cell_type": "code",
   "execution_count": 10,
   "metadata": {},
   "outputs": [],
   "source": [
    "dfDesc = []\n",
    "\n",
    "for i in df.columns:\n",
    "    dfDesc.append([\n",
    "        i,\n",
    "        df[i].dtypes,\n",
    "        df[i].isna().sum(),\n",
    "        (((df[i].isna().sum()) / len(df)) * 100).round(2),\n",
    "        df[i].nunique(),\n",
    "        df[i].drop_duplicates().sample(2).values\n",
    "    ])"
   ]
  },
  {
   "cell_type": "code",
   "execution_count": 11,
   "metadata": {},
   "outputs": [
    {
     "data": {
      "text/html": [
       "<div>\n",
       "<style scoped>\n",
       "    .dataframe tbody tr th:only-of-type {\n",
       "        vertical-align: middle;\n",
       "    }\n",
       "\n",
       "    .dataframe tbody tr th {\n",
       "        vertical-align: top;\n",
       "    }\n",
       "\n",
       "    .dataframe thead th {\n",
       "        text-align: right;\n",
       "    }\n",
       "</style>\n",
       "<table border=\"1\" class=\"dataframe\">\n",
       "  <thead>\n",
       "    <tr style=\"text-align: right;\">\n",
       "      <th></th>\n",
       "      <th>Data Features</th>\n",
       "      <th>Data Type</th>\n",
       "      <th>Null</th>\n",
       "      <th>Null (%)</th>\n",
       "      <th>Unique</th>\n",
       "      <th>Unique Sample</th>\n",
       "    </tr>\n",
       "  </thead>\n",
       "  <tbody>\n",
       "    <tr>\n",
       "      <th>0</th>\n",
       "      <td>EnvironmentSatisfaction</td>\n",
       "      <td>float64</td>\n",
       "      <td>0</td>\n",
       "      <td>0.0</td>\n",
       "      <td>4</td>\n",
       "      <td>[4.0, 1.0]</td>\n",
       "    </tr>\n",
       "    <tr>\n",
       "      <th>1</th>\n",
       "      <td>JobSatisfaction</td>\n",
       "      <td>float64</td>\n",
       "      <td>0</td>\n",
       "      <td>0.0</td>\n",
       "      <td>4</td>\n",
       "      <td>[2.0, 3.0]</td>\n",
       "    </tr>\n",
       "    <tr>\n",
       "      <th>2</th>\n",
       "      <td>WorkLifeBalance</td>\n",
       "      <td>float64</td>\n",
       "      <td>0</td>\n",
       "      <td>0.0</td>\n",
       "      <td>4</td>\n",
       "      <td>[3.0, 1.0]</td>\n",
       "    </tr>\n",
       "    <tr>\n",
       "      <th>3</th>\n",
       "      <td>Age</td>\n",
       "      <td>int64</td>\n",
       "      <td>0</td>\n",
       "      <td>0.0</td>\n",
       "      <td>43</td>\n",
       "      <td>[36, 18]</td>\n",
       "    </tr>\n",
       "    <tr>\n",
       "      <th>4</th>\n",
       "      <td>Attrition</td>\n",
       "      <td>object</td>\n",
       "      <td>0</td>\n",
       "      <td>0.0</td>\n",
       "      <td>2</td>\n",
       "      <td>[Yes, No]</td>\n",
       "    </tr>\n",
       "    <tr>\n",
       "      <th>5</th>\n",
       "      <td>BusinessTravel</td>\n",
       "      <td>object</td>\n",
       "      <td>0</td>\n",
       "      <td>0.0</td>\n",
       "      <td>3</td>\n",
       "      <td>[Non-Travel, Travel_Rarely]</td>\n",
       "    </tr>\n",
       "    <tr>\n",
       "      <th>6</th>\n",
       "      <td>Department</td>\n",
       "      <td>object</td>\n",
       "      <td>0</td>\n",
       "      <td>0.0</td>\n",
       "      <td>3</td>\n",
       "      <td>[Sales, Human Resources]</td>\n",
       "    </tr>\n",
       "    <tr>\n",
       "      <th>7</th>\n",
       "      <td>DistanceFromHome</td>\n",
       "      <td>int64</td>\n",
       "      <td>0</td>\n",
       "      <td>0.0</td>\n",
       "      <td>29</td>\n",
       "      <td>[24, 23]</td>\n",
       "    </tr>\n",
       "    <tr>\n",
       "      <th>8</th>\n",
       "      <td>Education</td>\n",
       "      <td>int64</td>\n",
       "      <td>0</td>\n",
       "      <td>0.0</td>\n",
       "      <td>5</td>\n",
       "      <td>[4, 3]</td>\n",
       "    </tr>\n",
       "    <tr>\n",
       "      <th>9</th>\n",
       "      <td>EducationField</td>\n",
       "      <td>object</td>\n",
       "      <td>0</td>\n",
       "      <td>0.0</td>\n",
       "      <td>6</td>\n",
       "      <td>[Life Sciences, Human Resources]</td>\n",
       "    </tr>\n",
       "    <tr>\n",
       "      <th>10</th>\n",
       "      <td>Gender</td>\n",
       "      <td>object</td>\n",
       "      <td>0</td>\n",
       "      <td>0.0</td>\n",
       "      <td>2</td>\n",
       "      <td>[Female, Male]</td>\n",
       "    </tr>\n",
       "    <tr>\n",
       "      <th>11</th>\n",
       "      <td>JobLevel</td>\n",
       "      <td>int64</td>\n",
       "      <td>0</td>\n",
       "      <td>0.0</td>\n",
       "      <td>5</td>\n",
       "      <td>[4, 1]</td>\n",
       "    </tr>\n",
       "    <tr>\n",
       "      <th>12</th>\n",
       "      <td>JobRole</td>\n",
       "      <td>object</td>\n",
       "      <td>0</td>\n",
       "      <td>0.0</td>\n",
       "      <td>9</td>\n",
       "      <td>[Manager, Healthcare Representative]</td>\n",
       "    </tr>\n",
       "    <tr>\n",
       "      <th>13</th>\n",
       "      <td>MaritalStatus</td>\n",
       "      <td>object</td>\n",
       "      <td>0</td>\n",
       "      <td>0.0</td>\n",
       "      <td>3</td>\n",
       "      <td>[Married, Divorced]</td>\n",
       "    </tr>\n",
       "    <tr>\n",
       "      <th>14</th>\n",
       "      <td>MonthlyIncome</td>\n",
       "      <td>int64</td>\n",
       "      <td>0</td>\n",
       "      <td>0.0</td>\n",
       "      <td>1349</td>\n",
       "      <td>[102310, 12740]</td>\n",
       "    </tr>\n",
       "    <tr>\n",
       "      <th>15</th>\n",
       "      <td>NumCompaniesWorked</td>\n",
       "      <td>float64</td>\n",
       "      <td>0</td>\n",
       "      <td>0.0</td>\n",
       "      <td>10</td>\n",
       "      <td>[6.0, 2.0]</td>\n",
       "    </tr>\n",
       "    <tr>\n",
       "      <th>16</th>\n",
       "      <td>PercentSalaryHike</td>\n",
       "      <td>int64</td>\n",
       "      <td>0</td>\n",
       "      <td>0.0</td>\n",
       "      <td>15</td>\n",
       "      <td>[23, 21]</td>\n",
       "    </tr>\n",
       "    <tr>\n",
       "      <th>17</th>\n",
       "      <td>StockOptionLevel</td>\n",
       "      <td>int64</td>\n",
       "      <td>0</td>\n",
       "      <td>0.0</td>\n",
       "      <td>4</td>\n",
       "      <td>[0, 2]</td>\n",
       "    </tr>\n",
       "    <tr>\n",
       "      <th>18</th>\n",
       "      <td>TotalWorkingYears</td>\n",
       "      <td>float64</td>\n",
       "      <td>0</td>\n",
       "      <td>0.0</td>\n",
       "      <td>40</td>\n",
       "      <td>[25.0, 36.0]</td>\n",
       "    </tr>\n",
       "    <tr>\n",
       "      <th>19</th>\n",
       "      <td>TrainingTimesLastYear</td>\n",
       "      <td>int64</td>\n",
       "      <td>0</td>\n",
       "      <td>0.0</td>\n",
       "      <td>7</td>\n",
       "      <td>[3, 5]</td>\n",
       "    </tr>\n",
       "    <tr>\n",
       "      <th>20</th>\n",
       "      <td>YearsAtCompany</td>\n",
       "      <td>int64</td>\n",
       "      <td>0</td>\n",
       "      <td>0.0</td>\n",
       "      <td>37</td>\n",
       "      <td>[32, 1]</td>\n",
       "    </tr>\n",
       "    <tr>\n",
       "      <th>21</th>\n",
       "      <td>YearsSinceLastPromotion</td>\n",
       "      <td>int64</td>\n",
       "      <td>0</td>\n",
       "      <td>0.0</td>\n",
       "      <td>16</td>\n",
       "      <td>[9, 8]</td>\n",
       "    </tr>\n",
       "    <tr>\n",
       "      <th>22</th>\n",
       "      <td>YearsWithCurrManager</td>\n",
       "      <td>int64</td>\n",
       "      <td>0</td>\n",
       "      <td>0.0</td>\n",
       "      <td>18</td>\n",
       "      <td>[1, 2]</td>\n",
       "    </tr>\n",
       "    <tr>\n",
       "      <th>23</th>\n",
       "      <td>JobInvolvement</td>\n",
       "      <td>int64</td>\n",
       "      <td>0</td>\n",
       "      <td>0.0</td>\n",
       "      <td>4</td>\n",
       "      <td>[2, 1]</td>\n",
       "    </tr>\n",
       "    <tr>\n",
       "      <th>24</th>\n",
       "      <td>PerformanceRating</td>\n",
       "      <td>int64</td>\n",
       "      <td>0</td>\n",
       "      <td>0.0</td>\n",
       "      <td>2</td>\n",
       "      <td>[3, 4]</td>\n",
       "    </tr>\n",
       "    <tr>\n",
       "      <th>25</th>\n",
       "      <td>WorkingHours</td>\n",
       "      <td>float64</td>\n",
       "      <td>0</td>\n",
       "      <td>0.0</td>\n",
       "      <td>4406</td>\n",
       "      <td>[7.5627632753233325, 7.6269678714858316]</td>\n",
       "    </tr>\n",
       "  </tbody>\n",
       "</table>\n",
       "</div>"
      ],
      "text/plain": [
       "              Data Features Data Type  Null  Null (%)  Unique  \\\n",
       "0   EnvironmentSatisfaction   float64     0       0.0       4   \n",
       "1           JobSatisfaction   float64     0       0.0       4   \n",
       "2           WorkLifeBalance   float64     0       0.0       4   \n",
       "3                       Age     int64     0       0.0      43   \n",
       "4                 Attrition    object     0       0.0       2   \n",
       "5            BusinessTravel    object     0       0.0       3   \n",
       "6                Department    object     0       0.0       3   \n",
       "7          DistanceFromHome     int64     0       0.0      29   \n",
       "8                 Education     int64     0       0.0       5   \n",
       "9            EducationField    object     0       0.0       6   \n",
       "10                   Gender    object     0       0.0       2   \n",
       "11                 JobLevel     int64     0       0.0       5   \n",
       "12                  JobRole    object     0       0.0       9   \n",
       "13            MaritalStatus    object     0       0.0       3   \n",
       "14            MonthlyIncome     int64     0       0.0    1349   \n",
       "15       NumCompaniesWorked   float64     0       0.0      10   \n",
       "16        PercentSalaryHike     int64     0       0.0      15   \n",
       "17         StockOptionLevel     int64     0       0.0       4   \n",
       "18        TotalWorkingYears   float64     0       0.0      40   \n",
       "19    TrainingTimesLastYear     int64     0       0.0       7   \n",
       "20           YearsAtCompany     int64     0       0.0      37   \n",
       "21  YearsSinceLastPromotion     int64     0       0.0      16   \n",
       "22     YearsWithCurrManager     int64     0       0.0      18   \n",
       "23           JobInvolvement     int64     0       0.0       4   \n",
       "24        PerformanceRating     int64     0       0.0       2   \n",
       "25             WorkingHours   float64     0       0.0    4406   \n",
       "\n",
       "                               Unique Sample  \n",
       "0                                 [4.0, 1.0]  \n",
       "1                                 [2.0, 3.0]  \n",
       "2                                 [3.0, 1.0]  \n",
       "3                                   [36, 18]  \n",
       "4                                  [Yes, No]  \n",
       "5                [Non-Travel, Travel_Rarely]  \n",
       "6                   [Sales, Human Resources]  \n",
       "7                                   [24, 23]  \n",
       "8                                     [4, 3]  \n",
       "9           [Life Sciences, Human Resources]  \n",
       "10                            [Female, Male]  \n",
       "11                                    [4, 1]  \n",
       "12      [Manager, Healthcare Representative]  \n",
       "13                       [Married, Divorced]  \n",
       "14                           [102310, 12740]  \n",
       "15                                [6.0, 2.0]  \n",
       "16                                  [23, 21]  \n",
       "17                                    [0, 2]  \n",
       "18                              [25.0, 36.0]  \n",
       "19                                    [3, 5]  \n",
       "20                                   [32, 1]  \n",
       "21                                    [9, 8]  \n",
       "22                                    [1, 2]  \n",
       "23                                    [2, 1]  \n",
       "24                                    [3, 4]  \n",
       "25  [7.5627632753233325, 7.6269678714858316]  "
      ]
     },
     "execution_count": 11,
     "metadata": {},
     "output_type": "execute_result"
    }
   ],
   "source": [
    "pd.DataFrame(dfDesc, columns= ['Data Features', 'Data Type', 'Null', 'Null (%)', 'Unique', 'Unique Sample'])"
   ]
  },
  {
   "cell_type": "code",
   "execution_count": 12,
   "metadata": {},
   "outputs": [
    {
     "name": "stdout",
     "output_type": "stream",
     "text": [
      "Numerical: Index(['EnvironmentSatisfaction', 'JobSatisfaction', 'WorkLifeBalance', 'Age',\n",
      "       'DistanceFromHome', 'Education', 'JobLevel', 'MonthlyIncome',\n",
      "       'NumCompaniesWorked', 'PercentSalaryHike', 'StockOptionLevel',\n",
      "       'TotalWorkingYears', 'TrainingTimesLastYear', 'YearsAtCompany',\n",
      "       'YearsSinceLastPromotion', 'YearsWithCurrManager', 'JobInvolvement',\n",
      "       'PerformanceRating', 'WorkingHours'],\n",
      "      dtype='object')\n",
      "Categorical: ['EducationField', 'Department', 'Attrition', 'JobRole', 'BusinessTravel', 'Gender', 'MaritalStatus']\n"
     ]
    }
   ],
   "source": [
    "df_num= df._get_numeric_data().columns\n",
    "df_cat= list(set(df.columns) - set(df_num))\n",
    "print(f'Numerical: {df_num}')\n",
    "print(f'Categorical: {df_cat}')"
   ]
  },
  {
   "cell_type": "markdown",
   "metadata": {},
   "source": [
    "# Preprocessing and Encoding Data"
   ]
  },
  {
   "cell_type": "code",
   "execution_count": 13,
   "metadata": {},
   "outputs": [],
   "source": [
    "# Correcting Data Type\n",
    "\n",
    "import math\n",
    "for i in range(len(df)):\n",
    "    df.EnvironmentSatisfaction[i] = math.ceil(df.EnvironmentSatisfaction[i])\n",
    "    df.JobSatisfaction[i] = math.ceil(df.JobSatisfaction[i])\n",
    "    df.WorkLifeBalance[i] = math.ceil(df.WorkLifeBalance[i])\n",
    "    df.NumCompaniesWorked[i] = math.ceil(df.NumCompaniesWorked[i])\n",
    "    df.TotalWorkingYears[i] = math.ceil(df.TotalWorkingYears[i])\n",
    "    df.WorkingHours[i] = math.ceil(df.WorkingHours[i])\n",
    "df['EnvironmentSatisfaction'] = df['EnvironmentSatisfaction'].astype(int)\n",
    "df['JobSatisfaction'] = df['JobSatisfaction'].astype(int)\n",
    "df['WorkLifeBalance'] = df['WorkLifeBalance'].astype(int)\n",
    "df['NumCompaniesWorked'] = df['NumCompaniesWorked'].astype(int)\n",
    "df['TotalWorkingYears'] = df['TotalWorkingYears'].astype(int)\n",
    "df['WorkingHours'] = df['WorkingHours'].astype(int)"
   ]
  },
  {
   "cell_type": "code",
   "execution_count": 14,
   "metadata": {},
   "outputs": [],
   "source": [
    "df['Attrition']= df['Attrition'].map({'No': 0, 'Yes': 1})\n",
    "df['BusinessTravel']= df['BusinessTravel'].map({'Non-Travel':0,'Travel_Rarely': 1, 'Travel_Frequently': 2})\n",
    "df['Department']=df['Department'].map({'Sales':0,'Research & Development':1,'Human Resources':2})\n",
    "df['EducationField']= df['EducationField'].map({'Life Sciences': 0, 'Other': 1, 'Medical':2, 'Marketing':3, \n",
    "                                                'Technical Degree':4, 'Human Resources':5})\n",
    "df['Gender']= df['Gender'].map({'Female':0, 'Male':1})\n",
    "df['JobRole']=df['JobRole'].map({'Healthcare Representative':0, 'Research Scientist':1, 'Sales Executive':2, \n",
    "                                'Human Resources':3, 'Research Director':4, 'Laboratory Technician':5, 'Manufacturing Director':6,\n",
    "                                'Sales Representative':7, 'Manager':8})\n",
    "df['MaritalStatus']= df['MaritalStatus'].map({'Married': 0, 'Single': 1, 'Divorced':2})"
   ]
  },
  {
   "cell_type": "code",
   "execution_count": 15,
   "metadata": {},
   "outputs": [
    {
     "data": {
      "text/html": [
       "<div>\n",
       "<style scoped>\n",
       "    .dataframe tbody tr th:only-of-type {\n",
       "        vertical-align: middle;\n",
       "    }\n",
       "\n",
       "    .dataframe tbody tr th {\n",
       "        vertical-align: top;\n",
       "    }\n",
       "\n",
       "    .dataframe thead th {\n",
       "        text-align: right;\n",
       "    }\n",
       "</style>\n",
       "<table border=\"1\" class=\"dataframe\">\n",
       "  <thead>\n",
       "    <tr style=\"text-align: right;\">\n",
       "      <th></th>\n",
       "      <th>EnvironmentSatisfaction</th>\n",
       "      <th>JobSatisfaction</th>\n",
       "      <th>WorkLifeBalance</th>\n",
       "      <th>Age</th>\n",
       "      <th>Attrition</th>\n",
       "      <th>BusinessTravel</th>\n",
       "      <th>Department</th>\n",
       "      <th>DistanceFromHome</th>\n",
       "      <th>Education</th>\n",
       "      <th>EducationField</th>\n",
       "      <th>Gender</th>\n",
       "      <th>JobLevel</th>\n",
       "      <th>JobRole</th>\n",
       "      <th>MaritalStatus</th>\n",
       "      <th>MonthlyIncome</th>\n",
       "      <th>NumCompaniesWorked</th>\n",
       "      <th>PercentSalaryHike</th>\n",
       "      <th>StockOptionLevel</th>\n",
       "      <th>TotalWorkingYears</th>\n",
       "      <th>TrainingTimesLastYear</th>\n",
       "      <th>YearsAtCompany</th>\n",
       "      <th>YearsSinceLastPromotion</th>\n",
       "      <th>YearsWithCurrManager</th>\n",
       "      <th>JobInvolvement</th>\n",
       "      <th>PerformanceRating</th>\n",
       "      <th>WorkingHours</th>\n",
       "    </tr>\n",
       "  </thead>\n",
       "  <tbody>\n",
       "    <tr>\n",
       "      <th>0</th>\n",
       "      <td>3</td>\n",
       "      <td>4</td>\n",
       "      <td>2</td>\n",
       "      <td>51</td>\n",
       "      <td>0</td>\n",
       "      <td>1</td>\n",
       "      <td>0</td>\n",
       "      <td>6</td>\n",
       "      <td>2</td>\n",
       "      <td>0</td>\n",
       "      <td>0</td>\n",
       "      <td>1</td>\n",
       "      <td>0</td>\n",
       "      <td>0</td>\n",
       "      <td>131160</td>\n",
       "      <td>1</td>\n",
       "      <td>11</td>\n",
       "      <td>0</td>\n",
       "      <td>1</td>\n",
       "      <td>6</td>\n",
       "      <td>1</td>\n",
       "      <td>0</td>\n",
       "      <td>0</td>\n",
       "      <td>3</td>\n",
       "      <td>3</td>\n",
       "      <td>7</td>\n",
       "    </tr>\n",
       "    <tr>\n",
       "      <th>1</th>\n",
       "      <td>3</td>\n",
       "      <td>2</td>\n",
       "      <td>4</td>\n",
       "      <td>31</td>\n",
       "      <td>1</td>\n",
       "      <td>2</td>\n",
       "      <td>1</td>\n",
       "      <td>10</td>\n",
       "      <td>1</td>\n",
       "      <td>0</td>\n",
       "      <td>0</td>\n",
       "      <td>1</td>\n",
       "      <td>1</td>\n",
       "      <td>1</td>\n",
       "      <td>41890</td>\n",
       "      <td>0</td>\n",
       "      <td>23</td>\n",
       "      <td>1</td>\n",
       "      <td>6</td>\n",
       "      <td>3</td>\n",
       "      <td>5</td>\n",
       "      <td>1</td>\n",
       "      <td>4</td>\n",
       "      <td>2</td>\n",
       "      <td>4</td>\n",
       "      <td>8</td>\n",
       "    </tr>\n",
       "    <tr>\n",
       "      <th>2</th>\n",
       "      <td>2</td>\n",
       "      <td>2</td>\n",
       "      <td>1</td>\n",
       "      <td>32</td>\n",
       "      <td>0</td>\n",
       "      <td>2</td>\n",
       "      <td>1</td>\n",
       "      <td>17</td>\n",
       "      <td>4</td>\n",
       "      <td>1</td>\n",
       "      <td>1</td>\n",
       "      <td>4</td>\n",
       "      <td>2</td>\n",
       "      <td>0</td>\n",
       "      <td>193280</td>\n",
       "      <td>1</td>\n",
       "      <td>15</td>\n",
       "      <td>3</td>\n",
       "      <td>5</td>\n",
       "      <td>2</td>\n",
       "      <td>5</td>\n",
       "      <td>0</td>\n",
       "      <td>3</td>\n",
       "      <td>3</td>\n",
       "      <td>3</td>\n",
       "      <td>7</td>\n",
       "    </tr>\n",
       "    <tr>\n",
       "      <th>3</th>\n",
       "      <td>4</td>\n",
       "      <td>4</td>\n",
       "      <td>3</td>\n",
       "      <td>38</td>\n",
       "      <td>0</td>\n",
       "      <td>0</td>\n",
       "      <td>1</td>\n",
       "      <td>2</td>\n",
       "      <td>5</td>\n",
       "      <td>0</td>\n",
       "      <td>1</td>\n",
       "      <td>3</td>\n",
       "      <td>3</td>\n",
       "      <td>0</td>\n",
       "      <td>83210</td>\n",
       "      <td>3</td>\n",
       "      <td>11</td>\n",
       "      <td>3</td>\n",
       "      <td>13</td>\n",
       "      <td>5</td>\n",
       "      <td>8</td>\n",
       "      <td>7</td>\n",
       "      <td>5</td>\n",
       "      <td>2</td>\n",
       "      <td>3</td>\n",
       "      <td>7</td>\n",
       "    </tr>\n",
       "    <tr>\n",
       "      <th>4</th>\n",
       "      <td>4</td>\n",
       "      <td>1</td>\n",
       "      <td>3</td>\n",
       "      <td>32</td>\n",
       "      <td>0</td>\n",
       "      <td>1</td>\n",
       "      <td>1</td>\n",
       "      <td>10</td>\n",
       "      <td>1</td>\n",
       "      <td>2</td>\n",
       "      <td>1</td>\n",
       "      <td>1</td>\n",
       "      <td>2</td>\n",
       "      <td>1</td>\n",
       "      <td>23420</td>\n",
       "      <td>4</td>\n",
       "      <td>12</td>\n",
       "      <td>2</td>\n",
       "      <td>9</td>\n",
       "      <td>2</td>\n",
       "      <td>6</td>\n",
       "      <td>0</td>\n",
       "      <td>4</td>\n",
       "      <td>3</td>\n",
       "      <td>3</td>\n",
       "      <td>8</td>\n",
       "    </tr>\n",
       "  </tbody>\n",
       "</table>\n",
       "</div>"
      ],
      "text/plain": [
       "   EnvironmentSatisfaction  JobSatisfaction  WorkLifeBalance  Age  Attrition  \\\n",
       "0                        3                4                2   51          0   \n",
       "1                        3                2                4   31          1   \n",
       "2                        2                2                1   32          0   \n",
       "3                        4                4                3   38          0   \n",
       "4                        4                1                3   32          0   \n",
       "\n",
       "   BusinessTravel  Department  DistanceFromHome  Education  EducationField  \\\n",
       "0               1           0                 6          2               0   \n",
       "1               2           1                10          1               0   \n",
       "2               2           1                17          4               1   \n",
       "3               0           1                 2          5               0   \n",
       "4               1           1                10          1               2   \n",
       "\n",
       "   Gender  JobLevel  JobRole  MaritalStatus  MonthlyIncome  \\\n",
       "0       0         1        0              0         131160   \n",
       "1       0         1        1              1          41890   \n",
       "2       1         4        2              0         193280   \n",
       "3       1         3        3              0          83210   \n",
       "4       1         1        2              1          23420   \n",
       "\n",
       "   NumCompaniesWorked  PercentSalaryHike  StockOptionLevel  TotalWorkingYears  \\\n",
       "0                   1                 11                 0                  1   \n",
       "1                   0                 23                 1                  6   \n",
       "2                   1                 15                 3                  5   \n",
       "3                   3                 11                 3                 13   \n",
       "4                   4                 12                 2                  9   \n",
       "\n",
       "   TrainingTimesLastYear  YearsAtCompany  YearsSinceLastPromotion  \\\n",
       "0                      6               1                        0   \n",
       "1                      3               5                        1   \n",
       "2                      2               5                        0   \n",
       "3                      5               8                        7   \n",
       "4                      2               6                        0   \n",
       "\n",
       "   YearsWithCurrManager  JobInvolvement  PerformanceRating  WorkingHours  \n",
       "0                     0               3                  3             7  \n",
       "1                     4               2                  4             8  \n",
       "2                     3               3                  3             7  \n",
       "3                     5               2                  3             7  \n",
       "4                     4               3                  3             8  "
      ]
     },
     "execution_count": 15,
     "metadata": {},
     "output_type": "execute_result"
    }
   ],
   "source": [
    "df.head()"
   ]
  },
  {
   "cell_type": "code",
   "execution_count": 16,
   "metadata": {},
   "outputs": [
    {
     "data": {
      "text/plain": [
       "WorkingHours               0.194561\n",
       "BusinessTravel             0.127006\n",
       "Department                 0.048206\n",
       "NumCompaniesWorked         0.042064\n",
       "PercentSalaryHike          0.032533\n",
       "PerformanceRating          0.023403\n",
       "Gender                     0.018125\n",
       "MaritalStatus              0.011195\n",
       "EducationField             0.004352\n",
       "StockOptionLevel          -0.006839\n",
       "DistanceFromHome          -0.009730\n",
       "JobLevel                  -0.010290\n",
       "Education                 -0.015111\n",
       "JobInvolvement            -0.015588\n",
       "MonthlyIncome             -0.031176\n",
       "JobRole                   -0.031255\n",
       "YearsSinceLastPromotion   -0.033019\n",
       "TrainingTimesLastYear     -0.049431\n",
       "WorkLifeBalance           -0.062975\n",
       "EnvironmentSatisfaction   -0.101625\n",
       "JobSatisfaction           -0.103068\n",
       "YearsAtCompany            -0.134392\n",
       "YearsWithCurrManager      -0.156199\n",
       "Age                       -0.159205\n",
       "TotalWorkingYears         -0.170162\n",
       "Name: Attrition, dtype: float64"
      ]
     },
     "execution_count": 16,
     "metadata": {},
     "output_type": "execute_result"
    }
   ],
   "source": [
    "correlation= df.corr()\n",
    "correlation['Attrition'].sort_values(ascending = False)[1:]\n",
    "\n",
    "# We will drop features that has low correlation with attrition"
   ]
  },
  {
   "cell_type": "code",
   "execution_count": 17,
   "metadata": {},
   "outputs": [
    {
     "data": {
      "text/plain": [
       "Index(['EnvironmentSatisfaction', 'JobSatisfaction', 'WorkLifeBalance', 'Age',\n",
       "       'Attrition', 'BusinessTravel', 'Department', 'DistanceFromHome',\n",
       "       'Education', 'EducationField', 'Gender', 'JobLevel', 'JobRole',\n",
       "       'MaritalStatus', 'MonthlyIncome', 'NumCompaniesWorked',\n",
       "       'PercentSalaryHike', 'StockOptionLevel', 'TotalWorkingYears',\n",
       "       'TrainingTimesLastYear', 'YearsAtCompany', 'YearsSinceLastPromotion',\n",
       "       'YearsWithCurrManager', 'JobInvolvement', 'PerformanceRating',\n",
       "       'WorkingHours'],\n",
       "      dtype='object')"
      ]
     },
     "execution_count": 17,
     "metadata": {},
     "output_type": "execute_result"
    }
   ],
   "source": [
    "df.columns"
   ]
  },
  {
   "cell_type": "code",
   "execution_count": 18,
   "metadata": {},
   "outputs": [],
   "source": [
    "df.drop(columns=['WorkLifeBalance', 'Department', 'DistanceFromHome', 'Education', \n",
    "                  'EducationField', 'Gender', 'JobLevel', 'JobRole', 'MaritalStatus', \n",
    "                  'NumCompaniesWorked','PercentSalaryHike', 'StockOptionLevel', 'TrainingTimesLastYear', \n",
    "                  'YearsSinceLastPromotion', 'JobInvolvement', 'PerformanceRating'],axis=1,inplace=True)"
   ]
  },
  {
   "cell_type": "code",
   "execution_count": 19,
   "metadata": {
    "scrolled": true
   },
   "outputs": [
    {
     "data": {
      "text/html": [
       "<div>\n",
       "<style scoped>\n",
       "    .dataframe tbody tr th:only-of-type {\n",
       "        vertical-align: middle;\n",
       "    }\n",
       "\n",
       "    .dataframe tbody tr th {\n",
       "        vertical-align: top;\n",
       "    }\n",
       "\n",
       "    .dataframe thead th {\n",
       "        text-align: right;\n",
       "    }\n",
       "</style>\n",
       "<table border=\"1\" class=\"dataframe\">\n",
       "  <thead>\n",
       "    <tr style=\"text-align: right;\">\n",
       "      <th></th>\n",
       "      <th>EnvironmentSatisfaction</th>\n",
       "      <th>JobSatisfaction</th>\n",
       "      <th>Age</th>\n",
       "      <th>Attrition</th>\n",
       "      <th>BusinessTravel</th>\n",
       "      <th>MonthlyIncome</th>\n",
       "      <th>TotalWorkingYears</th>\n",
       "      <th>YearsAtCompany</th>\n",
       "      <th>YearsWithCurrManager</th>\n",
       "      <th>WorkingHours</th>\n",
       "    </tr>\n",
       "  </thead>\n",
       "  <tbody>\n",
       "    <tr>\n",
       "      <th>0</th>\n",
       "      <td>3</td>\n",
       "      <td>4</td>\n",
       "      <td>51</td>\n",
       "      <td>0</td>\n",
       "      <td>1</td>\n",
       "      <td>131160</td>\n",
       "      <td>1</td>\n",
       "      <td>1</td>\n",
       "      <td>0</td>\n",
       "      <td>7</td>\n",
       "    </tr>\n",
       "    <tr>\n",
       "      <th>1</th>\n",
       "      <td>3</td>\n",
       "      <td>2</td>\n",
       "      <td>31</td>\n",
       "      <td>1</td>\n",
       "      <td>2</td>\n",
       "      <td>41890</td>\n",
       "      <td>6</td>\n",
       "      <td>5</td>\n",
       "      <td>4</td>\n",
       "      <td>8</td>\n",
       "    </tr>\n",
       "    <tr>\n",
       "      <th>2</th>\n",
       "      <td>2</td>\n",
       "      <td>2</td>\n",
       "      <td>32</td>\n",
       "      <td>0</td>\n",
       "      <td>2</td>\n",
       "      <td>193280</td>\n",
       "      <td>5</td>\n",
       "      <td>5</td>\n",
       "      <td>3</td>\n",
       "      <td>7</td>\n",
       "    </tr>\n",
       "    <tr>\n",
       "      <th>3</th>\n",
       "      <td>4</td>\n",
       "      <td>4</td>\n",
       "      <td>38</td>\n",
       "      <td>0</td>\n",
       "      <td>0</td>\n",
       "      <td>83210</td>\n",
       "      <td>13</td>\n",
       "      <td>8</td>\n",
       "      <td>5</td>\n",
       "      <td>7</td>\n",
       "    </tr>\n",
       "    <tr>\n",
       "      <th>4</th>\n",
       "      <td>4</td>\n",
       "      <td>1</td>\n",
       "      <td>32</td>\n",
       "      <td>0</td>\n",
       "      <td>1</td>\n",
       "      <td>23420</td>\n",
       "      <td>9</td>\n",
       "      <td>6</td>\n",
       "      <td>4</td>\n",
       "      <td>8</td>\n",
       "    </tr>\n",
       "  </tbody>\n",
       "</table>\n",
       "</div>"
      ],
      "text/plain": [
       "   EnvironmentSatisfaction  JobSatisfaction  Age  Attrition  BusinessTravel  \\\n",
       "0                        3                4   51          0               1   \n",
       "1                        3                2   31          1               2   \n",
       "2                        2                2   32          0               2   \n",
       "3                        4                4   38          0               0   \n",
       "4                        4                1   32          0               1   \n",
       "\n",
       "   MonthlyIncome  TotalWorkingYears  YearsAtCompany  YearsWithCurrManager  \\\n",
       "0         131160                  1               1                     0   \n",
       "1          41890                  6               5                     4   \n",
       "2         193280                  5               5                     3   \n",
       "3          83210                 13               8                     5   \n",
       "4          23420                  9               6                     4   \n",
       "\n",
       "   WorkingHours  \n",
       "0             7  \n",
       "1             8  \n",
       "2             7  \n",
       "3             7  \n",
       "4             8  "
      ]
     },
     "execution_count": 19,
     "metadata": {},
     "output_type": "execute_result"
    }
   ],
   "source": [
    "df.head()"
   ]
  },
  {
   "cell_type": "code",
   "execution_count": 20,
   "metadata": {},
   "outputs": [
    {
     "data": {
      "text/plain": [
       "EnvironmentSatisfaction    int64\n",
       "JobSatisfaction            int64\n",
       "Age                        int64\n",
       "Attrition                  int64\n",
       "BusinessTravel             int64\n",
       "MonthlyIncome              int64\n",
       "TotalWorkingYears          int64\n",
       "YearsAtCompany             int64\n",
       "YearsWithCurrManager       int64\n",
       "WorkingHours               int64\n",
       "dtype: object"
      ]
     },
     "execution_count": 20,
     "metadata": {},
     "output_type": "execute_result"
    }
   ],
   "source": [
    "df.dtypes"
   ]
  },
  {
   "cell_type": "code",
   "execution_count": 21,
   "metadata": {},
   "outputs": [],
   "source": [
    "data_encode= df.to_csv('/Users/cahyopambudiutomo/Documents/Purwadhika/Final Project/JCDS Cahyo/Dataset/data_encoded.csv', index= False)"
   ]
  },
  {
   "cell_type": "markdown",
   "metadata": {},
   "source": [
    "# Feature Selection"
   ]
  },
  {
   "cell_type": "code",
   "execution_count": 22,
   "metadata": {},
   "outputs": [
    {
     "data": {
      "text/plain": [
       "0    3699\n",
       "1     711\n",
       "Name: Attrition, dtype: int64"
      ]
     },
     "execution_count": 22,
     "metadata": {},
     "output_type": "execute_result"
    }
   ],
   "source": [
    "df['Attrition'].value_counts()\n",
    "\n",
    "# Data Imbalance"
   ]
  },
  {
   "cell_type": "code",
   "execution_count": 23,
   "metadata": {},
   "outputs": [],
   "source": [
    "X= df.drop(columns= 'Attrition')\n",
    "y= df['Attrition']"
   ]
  },
  {
   "cell_type": "code",
   "execution_count": 24,
   "metadata": {},
   "outputs": [],
   "source": [
    "X_train, X_test, y_train, y_test = train_test_split(X ,y ,stratify = y, train_size=.80, random_state=42)"
   ]
  },
  {
   "cell_type": "markdown",
   "metadata": {},
   "source": [
    "# SMOTE for Imbalance Data"
   ]
  },
  {
   "cell_type": "code",
   "execution_count": 25,
   "metadata": {},
   "outputs": [],
   "source": [
    "sm = SMOTE(random_state = 42)\n",
    "X_train_sm, y_train_sm = sm.fit_sample(X_train, y_train)"
   ]
  },
  {
   "cell_type": "code",
   "execution_count": 27,
   "metadata": {},
   "outputs": [
    {
     "data": {
      "text/plain": [
       "1    2959\n",
       "0    2959\n",
       "Name: Attrition, dtype: int64"
      ]
     },
     "execution_count": 27,
     "metadata": {},
     "output_type": "execute_result"
    }
   ],
   "source": [
    "df_smote = pd.concat([X_train_sm, y_train_sm], axis = 1)\n",
    "df_smote['Attrition'].value_counts()"
   ]
  },
  {
   "cell_type": "markdown",
   "metadata": {},
   "source": [
    "# Scaling"
   ]
  },
  {
   "cell_type": "code",
   "execution_count": 28,
   "metadata": {},
   "outputs": [],
   "source": [
    "scaler_rs = RobustScaler()\n",
    "X_train_sm_rs = scaler_rs.fit_transform(X_train_sm)\n",
    "X_test_rs = scaler_rs.transform(X_test)"
   ]
  },
  {
   "cell_type": "markdown",
   "metadata": {},
   "source": [
    "# Machine Learning"
   ]
  },
  {
   "cell_type": "markdown",
   "metadata": {},
   "source": [
    "## Logistic Regression"
   ]
  },
  {
   "cell_type": "code",
   "execution_count": 31,
   "metadata": {},
   "outputs": [
    {
     "name": "stdout",
     "output_type": "stream",
     "text": [
      "              precision    recall  f1-score   support\n",
      "\n",
      "           0       0.91      0.73      0.81       740\n",
      "           1       0.31      0.63      0.41       142\n",
      "\n",
      "    accuracy                           0.71       882\n",
      "   macro avg       0.61      0.68      0.61       882\n",
      "weighted avg       0.81      0.71      0.74       882\n",
      "\n",
      "Train Recall Score LogReg : 0.7404528556944914\n",
      "Test Recall Score LogReg : 0.6267605633802817\n"
     ]
    },
    {
     "data": {
      "image/png": "[encoded data removed]",
      "text/plain": [
       "<Figure size 576x360 with 2 Axes>"
      ]
     },
     "metadata": {
      "needs_background": "light"
     },
     "output_type": "display_data"
    },
    {
     "data": {
      "text/html": [
       "<div>\n",
       "<style scoped>\n",
       "    .dataframe tbody tr th:only-of-type {\n",
       "        vertical-align: middle;\n",
       "    }\n",
       "\n",
       "    .dataframe tbody tr th {\n",
       "        vertical-align: top;\n",
       "    }\n",
       "\n",
       "    .dataframe thead th {\n",
       "        text-align: right;\n",
       "    }\n",
       "</style>\n",
       "<table border=\"1\" class=\"dataframe\">\n",
       "  <thead>\n",
       "    <tr style=\"text-align: right;\">\n",
       "      <th></th>\n",
       "      <th>Pred 1</th>\n",
       "      <th>Pred 0</th>\n",
       "    </tr>\n",
       "  </thead>\n",
       "  <tbody>\n",
       "    <tr>\n",
       "      <th>Akt 1</th>\n",
       "      <td>89</td>\n",
       "      <td>53</td>\n",
       "    </tr>\n",
       "    <tr>\n",
       "      <th>Akt 0</th>\n",
       "      <td>202</td>\n",
       "      <td>538</td>\n",
       "    </tr>\n",
       "  </tbody>\n",
       "</table>\n",
       "</div>"
      ],
      "text/plain": [
       "       Pred 1  Pred 0\n",
       "Akt 1      89      53\n",
       "Akt 0     202     538"
      ]
     },
     "execution_count": 31,
     "metadata": {},
     "output_type": "execute_result"
    }
   ],
   "source": [
    "LogReg= LogisticRegression(random_state=42)\n",
    "LogReg.fit(X_train_sm_rs, y_train_sm)\n",
    "y_pred= LogReg.predict(X_test_rs)\n",
    "y_pred_train= LogReg.predict(X_train_sm_rs)\n",
    "\n",
    "acc_LogReg = accuracy_score(y_test, y_pred)\n",
    "prec_LogReg = precision_score(y_test, y_pred)\n",
    "rec_LogReg_test = recall_score(y_test, y_pred, pos_label=1)\n",
    "rec_LogReg_train= recall_score(y_train_sm, y_pred_train)\n",
    "f1_LogReg = f1_score(y_test, y_pred)\n",
    "recall_score(y_train_sm, y_pred_train, pos_label=0)\n",
    "print(classification_report(y_test, y_pred))\n",
    "\n",
    "print(f\"Train Recall Score LogReg : {rec_LogReg_train}\")\n",
    "print(f\"Test Recall Score LogReg : {rec_LogReg_test}\")\n",
    "\n",
    "plt.subplots(figsize=(8,5))\n",
    "cm = confusion_matrix(y_test, y_pred, labels=[1, 0])\n",
    "df_cm = pd.DataFrame(data=cm, columns=['Pred 1', 'Pred 0'], index = ['Akt 1', 'Akt 0'])\n",
    "sns.heatmap(df_cm, cmap= 'viridis', fmt= '.0f', annot=True)\n",
    "plt.xlabel(\"Predict\")\n",
    "plt.ylabel(\"Actual\")\n",
    "plt.show()\n",
    "\n",
    "df_cm"
   ]
  },
  {
   "cell_type": "code",
   "execution_count": 32,
   "metadata": {},
   "outputs": [
    {
     "data": {
      "image/png": "[encoded data removed]",
      "text/plain": [
       "<Figure size 1080x576 with 1 Axes>"
      ]
     },
     "metadata": {
      "needs_background": "light"
     },
     "output_type": "display_data"
    }
   ],
   "source": [
    "plt.figure(figsize=(15,8))\n",
    "sns.regplot(y_test,y_pred,fit_reg =True)\n",
    "plt.xlabel('Actual')\n",
    "plt.ylabel('Predicted')\n",
    "plt.show()"
   ]
  },
  {
   "cell_type": "markdown",
   "metadata": {},
   "source": [
    "## K Nearest Neighbor"
   ]
  },
  {
   "cell_type": "code",
   "execution_count": 34,
   "metadata": {},
   "outputs": [
    {
     "name": "stdout",
     "output_type": "stream",
     "text": [
      "              precision    recall  f1-score   support\n",
      "\n",
      "           0       0.95      0.77      0.85       740\n",
      "           1       0.40      0.77      0.52       142\n",
      "\n",
      "    accuracy                           0.77       882\n",
      "   macro avg       0.67      0.77      0.69       882\n",
      "weighted avg       0.86      0.77      0.80       882\n",
      "\n",
      "Train Recall Score KNN : 0.895234876647516\n",
      "Test Recall Score KNN : 0.7746478873239436\n"
     ]
    },
    {
     "data": {
      "image/png": "[encoded data removed]",
      "text/plain": [
       "<Figure size 576x360 with 2 Axes>"
      ]
     },
     "metadata": {
      "needs_background": "light"
     },
     "output_type": "display_data"
    }
   ],
   "source": [
    "KNN = KNeighborsClassifier()\n",
    "KNN.fit(X_train_sm, y_train_sm)\n",
    "y_pred= KNN.predict(X_test)\n",
    "y_pred_train= KNN.predict(X_train_sm)\n",
    "\n",
    "acc_KNN = accuracy_score(y_test, y_pred)\n",
    "prec_KNN = precision_score(y_test, y_pred)\n",
    "rec_KNN_test = recall_score(y_test, y_pred, pos_label=1)\n",
    "rec_KNN_train= recall_score(y_train_sm, y_pred_train)\n",
    "f1_KNN = f1_score(y_test, y_pred)\n",
    "recall_score(y_test, y_pred, pos_label=0)\n",
    "print(classification_report(y_test, y_pred))\n",
    "\n",
    "print(f\"Train Recall Score KNN : {rec_KNN_train}\")\n",
    "print(f\"Test Recall Score KNN : {rec_KNN_test}\")\n",
    "\n",
    "plt.subplots(figsize=(8,5))\n",
    "cm = confusion_matrix(y_test, y_pred, labels=[1, 0])\n",
    "df_cm = pd.DataFrame(data=cm, columns=['Pred 1', 'Pred 0'], index = ['Akt 1', 'Akt 0'])\n",
    "sns.heatmap(df_cm, cmap= 'magma', fmt= '.0f', annot=True)\n",
    "plt.xlabel(\"Predict\")\n",
    "plt.ylabel(\"Actual\")\n",
    "plt.show()"
   ]
  },
  {
   "cell_type": "code",
   "execution_count": 35,
   "metadata": {},
   "outputs": [
    {
     "data": {
      "image/png": "[encoded data removed]",
      "text/plain": [
       "<Figure size 1080x576 with 1 Axes>"
      ]
     },
     "metadata": {
      "needs_background": "light"
     },
     "output_type": "display_data"
    }
   ],
   "source": [
    "plt.figure(figsize=(15,8))\n",
    "sns.regplot(y_test,y_pred,fit_reg =True)\n",
    "plt.xlabel('Actual')\n",
    "plt.ylabel('Predicted')\n",
    "plt.show()"
   ]
  },
  {
   "cell_type": "markdown",
   "metadata": {},
   "source": [
    "## Random Forest Classifier"
   ]
  },
  {
   "cell_type": "code",
   "execution_count": 36,
   "metadata": {},
   "outputs": [
    {
     "name": "stdout",
     "output_type": "stream",
     "text": [
      "              precision    recall  f1-score   support\n",
      "\n",
      "           0       1.00      1.00      1.00       740\n",
      "           1       1.00      0.98      0.99       142\n",
      "\n",
      "    accuracy                           1.00       882\n",
      "   macro avg       1.00      0.99      0.99       882\n",
      "weighted avg       1.00      1.00      1.00       882\n",
      "\n",
      "Train Recall Score RF : 1.0\n",
      "Test Recall Score RF : 0.9788732394366197\n"
     ]
    },
    {
     "data": {
      "image/png": "[encoded data removed]",
      "text/plain": [
       "<Figure size 576x360 with 2 Axes>"
      ]
     },
     "metadata": {
      "needs_background": "light"
     },
     "output_type": "display_data"
    }
   ],
   "source": [
    "RF = RandomForestClassifier(n_estimators=100,random_state=1)\n",
    "RF.fit(X_train_sm, y_train_sm)\n",
    "y_pred= RF.predict(X_test)\n",
    "y_pred_train = RF.predict(X_train_sm)\n",
    "\n",
    "acc_RF = accuracy_score(y_test, y_pred)\n",
    "prec_RF = precision_score(y_test, y_pred)\n",
    "rec_RF_test = recall_score(y_test, y_pred, pos_label=1)\n",
    "rec_RF_train= recall_score(y_train_sm, y_pred_train)\n",
    "f1_RF = f1_score(y_test, y_pred)\n",
    "recall_score(y_test, y_pred, pos_label=0)\n",
    "print(classification_report(y_test, y_pred))\n",
    "\n",
    "print(f\"Train Recall Score RF : {rec_RF_train}\")\n",
    "print(f\"Test Recall Score RF : {rec_RF_test}\")\n",
    "\n",
    "plt.subplots(figsize=(8,5))\n",
    "cm = confusion_matrix(y_test, y_pred, labels=[1, 0])\n",
    "df_cm = pd.DataFrame(data=cm, columns=['Pred 1', 'Pred 0'], index = ['Akt 1', 'Akt 0'])\n",
    "sns.heatmap(df_cm, cmap= 'magma', fmt= '.0f', annot=True)\n",
    "plt.xlabel(\"Predict\")\n",
    "plt.ylabel(\"Actual\")\n",
    "plt.show()"
   ]
  },
  {
   "cell_type": "code",
   "execution_count": 37,
   "metadata": {},
   "outputs": [
    {
     "data": {
      "image/png": "[encoded data removed]",
      "text/plain": [
       "<Figure size 1080x576 with 1 Axes>"
      ]
     },
     "metadata": {
      "needs_background": "light"
     },
     "output_type": "display_data"
    }
   ],
   "source": [
    "plt.figure(figsize=(15,8))\n",
    "sns.regplot(y_test,y_pred,fit_reg =True)\n",
    "plt.xlabel('Actual')\n",
    "plt.ylabel('Predicted')\n",
    "plt.show()"
   ]
  },
  {
   "cell_type": "markdown",
   "metadata": {},
   "source": [
    "## XGBoost"
   ]
  },
  {
   "cell_type": "code",
   "execution_count": 38,
   "metadata": {},
   "outputs": [
    {
     "name": "stdout",
     "output_type": "stream",
     "text": [
      "              precision    recall  f1-score   support\n",
      "\n",
      "           0       0.99      0.99      0.99       740\n",
      "           1       0.97      0.97      0.97       142\n",
      "\n",
      "    accuracy                           0.99       882\n",
      "   macro avg       0.98      0.98      0.98       882\n",
      "weighted avg       0.99      0.99      0.99       882\n",
      "\n",
      "Train Recall Score XGB : 0.9996620479891856\n",
      "Test Recall Score XGB : 0.971830985915493\n"
     ]
    },
    {
     "data": {
      "image/png": "[encoded data removed]",
      "text/plain": [
       "<Figure size 576x360 with 2 Axes>"
      ]
     },
     "metadata": {
      "needs_background": "light"
     },
     "output_type": "display_data"
    }
   ],
   "source": [
    "XGB = XGBClassifier()\n",
    "XGB.fit(X_train_sm, y_train_sm)\n",
    "y_pred= XGB.predict(X_test)\n",
    "y_pred_train = XGB.predict(X_train_sm)\n",
    "\n",
    "acc_XGB = accuracy_score(y_test, y_pred)\n",
    "prec_XGB = precision_score(y_test, y_pred)\n",
    "rec_XGB_test = recall_score(y_test, y_pred, pos_label=1)\n",
    "rec_XGB_train= recall_score(y_train_sm, y_pred_train)\n",
    "f1_XGB = f1_score(y_test, y_pred)\n",
    "recall_score(y_test, y_pred, pos_label=0)\n",
    "print(classification_report(y_test, y_pred))\n",
    "\n",
    "print(f\"Train Recall Score XGB : {rec_XGB_train}\")\n",
    "print(f\"Test Recall Score XGB : {rec_XGB_test}\")\n",
    "\n",
    "plt.subplots(figsize=(8,5))\n",
    "cm = confusion_matrix(y_test, y_pred, labels=[1, 0])\n",
    "df_cm = pd.DataFrame(data=cm, columns=['Pred 1', 'Pred 0'], index = ['Akt 1', 'Akt 0'])\n",
    "sns.heatmap(df_cm, cmap= 'magma', fmt= '.0f', annot=True)\n",
    "plt.xlabel(\"Predict\")\n",
    "plt.ylabel(\"Actual\")\n",
    "plt.show()"
   ]
  },
  {
   "cell_type": "code",
   "execution_count": 39,
   "metadata": {},
   "outputs": [
    {
     "data": {
      "image/png": "[encoded data removed]",
      "text/plain": [
       "<Figure size 1080x576 with 1 Axes>"
      ]
     },
     "metadata": {
      "needs_background": "light"
     },
     "output_type": "display_data"
    }
   ],
   "source": [
    "plt.figure(figsize=(15,8))\n",
    "sns.regplot(y_test,y_pred,fit_reg =True)\n",
    "plt.xlabel('Actual')\n",
    "plt.ylabel('Predicted')\n",
    "plt.show()"
   ]
  },
  {
   "cell_type": "markdown",
   "metadata": {},
   "source": [
    "## Decision Tree Classifier"
   ]
  },
  {
   "cell_type": "code",
   "execution_count": 40,
   "metadata": {},
   "outputs": [
    {
     "name": "stdout",
     "output_type": "stream",
     "text": [
      "              precision    recall  f1-score   support\n",
      "\n",
      "           0       1.00      0.98      0.99       740\n",
      "           1       0.91      0.98      0.95       142\n",
      "\n",
      "    accuracy                           0.98       882\n",
      "   macro avg       0.96      0.98      0.97       882\n",
      "weighted avg       0.98      0.98      0.98       882\n",
      "\n",
      "Train Recall Score DT : 1.0\n",
      "Test Recall Score DT : 0.9788732394366197\n"
     ]
    },
    {
     "data": {
      "image/png": "[encoded data removed]",
      "text/plain": [
       "<Figure size 576x360 with 2 Axes>"
      ]
     },
     "metadata": {
      "needs_background": "light"
     },
     "output_type": "display_data"
    }
   ],
   "source": [
    "DT = DecisionTreeClassifier()\n",
    "DT.fit(X_train_sm, y_train_sm)\n",
    "y_pred= DT.predict(X_test)\n",
    "y_pred_train = DT.predict(X_train_sm)\n",
    "\n",
    "acc_DT = accuracy_score(y_test, y_pred)\n",
    "prec_DT = precision_score(y_test, y_pred)\n",
    "rec_DT_test = recall_score(y_test, y_pred, pos_label=1)\n",
    "rec_DT_train= recall_score(y_train_sm, y_pred_train)\n",
    "f1_DT = f1_score(y_test, y_pred)\n",
    "recall_score(y_test, y_pred, pos_label=0)\n",
    "print(classification_report(y_test, y_pred))\n",
    "\n",
    "print(f\"Train Recall Score DT : {rec_DT_train}\")\n",
    "print(f\"Test Recall Score DT : {rec_DT_test}\")\n",
    "\n",
    "plt.subplots(figsize=(8,5))\n",
    "cm = confusion_matrix(y_test, y_pred, labels=[1, 0])\n",
    "df_cm = pd.DataFrame(data=cm, columns=['Pred 1', 'Pred 0'], index = ['Akt 1', 'Akt 0'])\n",
    "sns.heatmap(df_cm, cmap= 'magma', fmt= '.0f', annot=True)\n",
    "plt.xlabel(\"Predict\")\n",
    "plt.ylabel(\"Actual\")\n",
    "plt.show()"
   ]
  },
  {
   "cell_type": "code",
   "execution_count": 41,
   "metadata": {},
   "outputs": [
    {
     "data": {
      "image/png": "[encoded data removed]",
      "text/plain": [
       "<Figure size 1080x576 with 1 Axes>"
      ]
     },
     "metadata": {
      "needs_background": "light"
     },
     "output_type": "display_data"
    }
   ],
   "source": [
    "plt.figure(figsize=(15,8))\n",
    "sns.regplot(y_test,y_pred,fit_reg =True)\n",
    "plt.xlabel('Actual')\n",
    "plt.ylabel('Predicted')\n",
    "plt.show()"
   ]
  },
  {
   "cell_type": "code",
   "execution_count": 42,
   "metadata": {},
   "outputs": [
    {
     "data": {
      "text/html": [
       "<div>\n",
       "<style scoped>\n",
       "    .dataframe tbody tr th:only-of-type {\n",
       "        vertical-align: middle;\n",
       "    }\n",
       "\n",
       "    .dataframe tbody tr th {\n",
       "        vertical-align: top;\n",
       "    }\n",
       "\n",
       "    .dataframe thead th {\n",
       "        text-align: right;\n",
       "    }\n",
       "</style>\n",
       "<table border=\"1\" class=\"dataframe\">\n",
       "  <thead>\n",
       "    <tr style=\"text-align: right;\">\n",
       "      <th></th>\n",
       "      <th>LogReg</th>\n",
       "      <th>KNN</th>\n",
       "      <th>RF</th>\n",
       "      <th>XGB</th>\n",
       "      <th>DT</th>\n",
       "    </tr>\n",
       "  </thead>\n",
       "  <tbody>\n",
       "    <tr>\n",
       "      <th>Recall Test</th>\n",
       "      <td>0.626761</td>\n",
       "      <td>0.774648</td>\n",
       "      <td>0.978873</td>\n",
       "      <td>0.971831</td>\n",
       "      <td>0.978873</td>\n",
       "    </tr>\n",
       "    <tr>\n",
       "      <th>Recall Train</th>\n",
       "      <td>0.740453</td>\n",
       "      <td>0.895235</td>\n",
       "      <td>1.000000</td>\n",
       "      <td>0.999662</td>\n",
       "      <td>1.000000</td>\n",
       "    </tr>\n",
       "  </tbody>\n",
       "</table>\n",
       "</div>"
      ],
      "text/plain": [
       "                LogReg       KNN        RF       XGB        DT\n",
       "Recall Test   0.626761  0.774648  0.978873  0.971831  0.978873\n",
       "Recall Train  0.740453  0.895235  1.000000  0.999662  1.000000"
      ]
     },
     "execution_count": 42,
     "metadata": {},
     "output_type": "execute_result"
    }
   ],
   "source": [
    "result_basemodel = {\n",
    "    \"LogReg\": [rec_LogReg_test, rec_LogReg_train],\n",
    "    \"KNN\": [rec_KNN_test, rec_KNN_train],\n",
    "    \"RF\" : [rec_RF_test, rec_RF_train],\n",
    "    \"XGB\" : [rec_XGB_test, rec_XGB_train],\n",
    "    \"DT\": [rec_DT_test, rec_DT_train] }\n",
    "\n",
    "pd.DataFrame(data = result_basemodel, index = ['Recall Test', 'Recall Train'])"
   ]
  },
  {
   "cell_type": "markdown",
   "metadata": {},
   "source": [
    "# Hyper Parameter Tuning"
   ]
  },
  {
   "cell_type": "markdown",
   "metadata": {},
   "source": [
    "## Logistic Regression + Tuning"
   ]
  },
  {
   "cell_type": "code",
   "execution_count": 43,
   "metadata": {},
   "outputs": [
    {
     "name": "stdout",
     "output_type": "stream",
     "text": [
      "Fitting 3 folds for each of 48 candidates, totalling 144 fits\n"
     ]
    },
    {
     "name": "stderr",
     "output_type": "stream",
     "text": [
      "[Parallel(n_jobs=-1)]: Using backend LokyBackend with 4 concurrent workers.\n",
      "[Parallel(n_jobs=-1)]: Done  56 tasks      | elapsed:    4.2s\n",
      "[Parallel(n_jobs=-1)]: Done 144 out of 144 | elapsed:    4.6s finished\n"
     ]
    },
    {
     "data": {
      "text/plain": [
       "GridSearchCV(cv=3, estimator=LogisticRegression(), n_jobs=-1,\n",
       "             param_grid={'C': [1, 0.5, 0.1, 0.05], 'class_weight': ['balanced'],\n",
       "                         'max_iter': [10, 100, 1000],\n",
       "                         'penalty': ['l1', 'l2', 'elasticnet', 'none']},\n",
       "             scoring='recall', verbose=1)"
      ]
     },
     "execution_count": 43,
     "metadata": {},
     "output_type": "execute_result"
    }
   ],
   "source": [
    "LogReg_tuned= LogisticRegression()\n",
    "param_LogReg = {'penalty' :['l1','l2', 'elasticnet', 'none'],\n",
    "                'C' : [1, 0.5, 0.1, 0.05],\n",
    "                'class_weight' : ['balanced'],\n",
    "               'max_iter' : [10, 100, 1000]}\n",
    "\n",
    "model_LogReg_tuned = GridSearchCV(estimator = LogReg_tuned, param_grid = param_LogReg, \n",
    "                                  cv = 3, n_jobs = -1 , verbose = 1, scoring = 'recall')\n",
    "\n",
    "model_LogReg_tuned.fit(X_train_sm_rs, y_train_sm)"
   ]
  },
  {
   "cell_type": "code",
   "execution_count": 44,
   "metadata": {},
   "outputs": [
    {
     "data": {
      "text/plain": [
       "LogisticRegression(C=0.5, class_weight='balanced')"
      ]
     },
     "execution_count": 44,
     "metadata": {},
     "output_type": "execute_result"
    }
   ],
   "source": [
    "model_LogReg_tuned.best_estimator_"
   ]
  },
  {
   "cell_type": "code",
   "execution_count": 48,
   "metadata": {},
   "outputs": [
    {
     "name": "stdout",
     "output_type": "stream",
     "text": [
      "              precision    recall  f1-score   support\n",
      "\n",
      "           0       0.91      0.73      0.81       740\n",
      "           1       0.31      0.63      0.41       142\n",
      "\n",
      "    accuracy                           0.71       882\n",
      "   macro avg       0.61      0.68      0.61       882\n",
      "weighted avg       0.81      0.71      0.74       882\n",
      "\n",
      "Train Recall Score LogReg Tuned : 0.7404528556944914\n",
      "Test Recall Score LogReg Tuned: 0.6267605633802817\n"
     ]
    },
    {
     "data": {
      "image/png": "[encoded data removed]",
      "text/plain": [
       "<Figure size 576x360 with 2 Axes>"
      ]
     },
     "metadata": {
      "needs_background": "light"
     },
     "output_type": "display_data"
    },
    {
     "data": {
      "text/html": [
       "<div>\n",
       "<style scoped>\n",
       "    .dataframe tbody tr th:only-of-type {\n",
       "        vertical-align: middle;\n",
       "    }\n",
       "\n",
       "    .dataframe tbody tr th {\n",
       "        vertical-align: top;\n",
       "    }\n",
       "\n",
       "    .dataframe thead th {\n",
       "        text-align: right;\n",
       "    }\n",
       "</style>\n",
       "<table border=\"1\" class=\"dataframe\">\n",
       "  <thead>\n",
       "    <tr style=\"text-align: right;\">\n",
       "      <th></th>\n",
       "      <th>Pred 1</th>\n",
       "      <th>Pred 0</th>\n",
       "    </tr>\n",
       "  </thead>\n",
       "  <tbody>\n",
       "    <tr>\n",
       "      <th>Akt 1</th>\n",
       "      <td>139</td>\n",
       "      <td>3</td>\n",
       "    </tr>\n",
       "    <tr>\n",
       "      <th>Akt 0</th>\n",
       "      <td>13</td>\n",
       "      <td>727</td>\n",
       "    </tr>\n",
       "  </tbody>\n",
       "</table>\n",
       "</div>"
      ],
      "text/plain": [
       "       Pred 1  Pred 0\n",
       "Akt 1     139       3\n",
       "Akt 0      13     727"
      ]
     },
     "execution_count": 48,
     "metadata": {},
     "output_type": "execute_result"
    }
   ],
   "source": [
    "LogReg_tuned= model_LogReg_tuned.best_estimator_\n",
    "y_pred_LogReg_tuned= LogReg_tuned.predict(X_test_rs)\n",
    "y_pred_LogReg_train_tuned= LogReg_tuned.predict(X_train_sm_rs)\n",
    "\n",
    "acc_LogReg_tuned= accuracy_score(y_test, y_pred_LogReg_tuned)\n",
    "prec_LogReg_tuned= precision_score(y_test, y_pred_LogReg_tuned)\n",
    "rec_LogReg_test_tuned= recall_score(y_test, y_pred_LogReg_tuned, pos_label=1)\n",
    "rec_LogReg_train_tuned= recall_score(y_train_sm, y_pred_LogReg_train_tuned)\n",
    "f1_LogReg_tuned= f1_score(y_test, y_pred)\n",
    "recall_score(y_test, y_pred_LogReg_tuned, pos_label=0)\n",
    "print(classification_report(y_test, y_pred_LogReg_tuned))\n",
    "\n",
    "print(f\"Train Recall Score LogReg Tuned : {rec_LogReg_train_tuned}\")\n",
    "print(f\"Test Recall Score LogReg Tuned: {rec_LogReg_test_tuned}\")\n",
    "\n",
    "plt.subplots(figsize=(8,5))\n",
    "cm = confusion_matrix(y_test, y_pred, labels=[1, 0])\n",
    "df_cm = pd.DataFrame(data=cm, columns=['Pred 1', 'Pred 0'], index = ['Akt 1', 'Akt 0'])\n",
    "sns.heatmap(df_cm, cmap= 'viridis', fmt= '.0f', annot=True)\n",
    "plt.xlabel(\"Predict\")\n",
    "plt.ylabel(\"Actual\")\n",
    "plt.show()\n",
    "\n",
    "df_cm"
   ]
  },
  {
   "cell_type": "code",
   "execution_count": 49,
   "metadata": {},
   "outputs": [
    {
     "data": {
      "image/png": "[encoded data removed]",
      "text/plain": [
       "<Figure size 1080x576 with 1 Axes>"
      ]
     },
     "metadata": {
      "needs_background": "light"
     },
     "output_type": "display_data"
    }
   ],
   "source": [
    "plt.figure(figsize=(15,8))\n",
    "sns.regplot(y_test,y_pred,fit_reg =True)\n",
    "plt.xlabel('Actual')\n",
    "plt.ylabel('Predicted')\n",
    "plt.show()"
   ]
  },
  {
   "cell_type": "markdown",
   "metadata": {},
   "source": [
    "## K Nearest Neighbor + Tuning"
   ]
  },
  {
   "cell_type": "code",
   "execution_count": 68,
   "metadata": {},
   "outputs": [
    {
     "name": "stdout",
     "output_type": "stream",
     "text": [
      "Fitting 3 folds for each of 54 candidates, totalling 162 fits\n"
     ]
    },
    {
     "name": "stderr",
     "output_type": "stream",
     "text": [
      "[Parallel(n_jobs=-1)]: Using backend LokyBackend with 4 concurrent workers.\n",
      "[Parallel(n_jobs=-1)]: Done 128 tasks      | elapsed:    1.4s\n",
      "[Parallel(n_jobs=-1)]: Done 162 out of 162 | elapsed:    1.6s finished\n"
     ]
    },
    {
     "data": {
      "text/plain": [
       "GridSearchCV(cv=3, estimator=KNeighborsClassifier(), n_jobs=-1,\n",
       "             param_grid={'algorithm': ['kd_tree'], 'leaf_size': [1, 5, 15],\n",
       "                         'n_neighbors': [1, 3, 5, 7, 9, 15], 'p': [2, 1, 0.2],\n",
       "                         'weights': ['distance']},\n",
       "             scoring='recall', verbose=1)"
      ]
     },
     "execution_count": 68,
     "metadata": {},
     "output_type": "execute_result"
    }
   ],
   "source": [
    "KNN_tuned = KNeighborsClassifier()\n",
    "param_KNN = {'n_neighbors': [1, 3, 5, 7, 9, 15],\n",
    "            'weights': ['distance'],\n",
    "            'p': [2,1, 0.2],\n",
    "             'leaf_size' : [1, 5, 15],\n",
    "            'algorithm': ['kd_tree']}\n",
    "\n",
    "model_KNN_tuned = GridSearchCV(estimator = KNN_tuned, param_grid = param_KNN, cv = 3, \n",
    "                          n_jobs = -1 , verbose = 1, scoring = 'recall')\n",
    "\n",
    "model_KNN_tuned.fit(X_train_sm, y_train_sm)"
   ]
  },
  {
   "cell_type": "code",
   "execution_count": 69,
   "metadata": {},
   "outputs": [
    {
     "data": {
      "text/plain": [
       "KNeighborsClassifier(algorithm='kd_tree', leaf_size=15, n_neighbors=1, p=1,\n",
       "                     weights='distance')"
      ]
     },
     "execution_count": 69,
     "metadata": {},
     "output_type": "execute_result"
    }
   ],
   "source": [
    "model_KNN_tuned.best_estimator_"
   ]
  },
  {
   "cell_type": "code",
   "execution_count": 70,
   "metadata": {},
   "outputs": [
    {
     "name": "stdout",
     "output_type": "stream",
     "text": [
      "              precision    recall  f1-score   support\n",
      "\n",
      "           0       1.00      0.99      1.00       740\n",
      "           1       0.96      1.00      0.98       142\n",
      "\n",
      "    accuracy                           0.99       882\n",
      "   macro avg       0.98      1.00      0.99       882\n",
      "weighted avg       0.99      0.99      0.99       882\n",
      "\n",
      "Train Recall Score KNN Tuned : 1.0\n",
      "Test Recall Score KNN Tuned: 1.0\n"
     ]
    },
    {
     "data": {
      "image/png": "[encoded data removed]",
      "text/plain": [
       "<Figure size 576x360 with 2 Axes>"
      ]
     },
     "metadata": {
      "needs_background": "light"
     },
     "output_type": "display_data"
    },
    {
     "data": {
      "text/html": [
       "<div>\n",
       "<style scoped>\n",
       "    .dataframe tbody tr th:only-of-type {\n",
       "        vertical-align: middle;\n",
       "    }\n",
       "\n",
       "    .dataframe tbody tr th {\n",
       "        vertical-align: top;\n",
       "    }\n",
       "\n",
       "    .dataframe thead th {\n",
       "        text-align: right;\n",
       "    }\n",
       "</style>\n",
       "<table border=\"1\" class=\"dataframe\">\n",
       "  <thead>\n",
       "    <tr style=\"text-align: right;\">\n",
       "      <th></th>\n",
       "      <th>Pred 1</th>\n",
       "      <th>Pred 0</th>\n",
       "    </tr>\n",
       "  </thead>\n",
       "  <tbody>\n",
       "    <tr>\n",
       "      <th>Akt 1</th>\n",
       "      <td>139</td>\n",
       "      <td>3</td>\n",
       "    </tr>\n",
       "    <tr>\n",
       "      <th>Akt 0</th>\n",
       "      <td>13</td>\n",
       "      <td>727</td>\n",
       "    </tr>\n",
       "  </tbody>\n",
       "</table>\n",
       "</div>"
      ],
      "text/plain": [
       "       Pred 1  Pred 0\n",
       "Akt 1     139       3\n",
       "Akt 0      13     727"
      ]
     },
     "execution_count": 70,
     "metadata": {},
     "output_type": "execute_result"
    }
   ],
   "source": [
    "KNN_tuned= model_KNN_tuned.best_estimator_\n",
    "y_pred_KNN_tuned= KNN_tuned.predict(X_test)\n",
    "y_pred_KNN_train_tuned= KNN_tuned.predict(X_train_sm)\n",
    "\n",
    "acc_KNN_tuned= accuracy_score(y_test, y_pred_KNN_tuned)\n",
    "prec_KNN_tuned= precision_score(y_test, y_pred_KNN_tuned)\n",
    "rec_KNN_test_tuned= recall_score(y_test, y_pred_KNN_tuned, pos_label=1)\n",
    "rec_KNN_train_tuned= recall_score(y_train_sm, y_pred_KNN_train_tuned)\n",
    "f1_KNN_tuned= f1_score(y_test, y_pred_KNN_tuned)\n",
    "recall_score(y_test, y_pred_KNN_tuned, pos_label=0)\n",
    "print(classification_report(y_test, y_pred_KNN_tuned))\n",
    "\n",
    "print(f\"Train Recall Score KNN Tuned : {rec_KNN_train_tuned}\")\n",
    "print(f\"Test Recall Score KNN Tuned: {rec_KNN_test_tuned}\")\n",
    "\n",
    "plt.subplots(figsize=(8,5))\n",
    "cm = confusion_matrix(y_test, y_pred, labels=[1, 0])\n",
    "df_cm = pd.DataFrame(data=cm, columns=['Pred 1', 'Pred 0'], index = ['Akt 1', 'Akt 0'])\n",
    "sns.heatmap(df_cm, cmap= 'viridis', fmt= '.0f', annot=True)\n",
    "plt.xlabel(\"Predict\")\n",
    "plt.ylabel(\"Actual\")\n",
    "plt.show()\n",
    "\n",
    "df_cm"
   ]
  },
  {
   "cell_type": "code",
   "execution_count": 71,
   "metadata": {},
   "outputs": [
    {
     "data": {
      "image/png": "[encoded data removed]",
      "text/plain": [
       "<Figure size 1080x576 with 1 Axes>"
      ]
     },
     "metadata": {
      "needs_background": "light"
     },
     "output_type": "display_data"
    }
   ],
   "source": [
    "plt.figure(figsize=(15,8))\n",
    "sns.regplot(y_test,y_pred,fit_reg =True)\n",
    "plt.xlabel('Actual')\n",
    "plt.ylabel('Predicted')\n",
    "plt.show()"
   ]
  },
  {
   "cell_type": "markdown",
   "metadata": {},
   "source": [
    "## Random Forest Classifier + Tuning"
   ]
  },
  {
   "cell_type": "code",
   "execution_count": 73,
   "metadata": {},
   "outputs": [
    {
     "name": "stdout",
     "output_type": "stream",
     "text": [
      "Fitting 3 folds for each of 360 candidates, totalling 1080 fits\n"
     ]
    },
    {
     "name": "stderr",
     "output_type": "stream",
     "text": [
      "[Parallel(n_jobs=-1)]: Using backend LokyBackend with 4 concurrent workers.\n",
      "[Parallel(n_jobs=-1)]: Done  58 tasks      | elapsed:    8.5s\n",
      "[Parallel(n_jobs=-1)]: Done 208 tasks      | elapsed:   25.2s\n",
      "[Parallel(n_jobs=-1)]: Done 458 tasks      | elapsed:   51.3s\n",
      "[Parallel(n_jobs=-1)]: Done 808 tasks      | elapsed:  1.5min\n",
      "[Parallel(n_jobs=-1)]: Done 1080 out of 1080 | elapsed:  1.9min finished\n"
     ]
    },
    {
     "data": {
      "text/plain": [
       "GridSearchCV(cv=3, estimator=RandomForestClassifier(), n_jobs=-1,\n",
       "             param_grid={'criterion': ['gini', 'entropy'],\n",
       "                         'max_depth': [None, 1, 5, 7, 10],\n",
       "                         'min_samples_leaf': [1, 2, 10],\n",
       "                         'min_samples_split': [2, 5, 25],\n",
       "                         'n_estimators': [10, 25, 50, 100]},\n",
       "             scoring='recall', verbose=1)"
      ]
     },
     "execution_count": 73,
     "metadata": {},
     "output_type": "execute_result"
    }
   ],
   "source": [
    "RF_tuned = RandomForestClassifier()\n",
    "param_RF = {'n_estimators': [10, 25, 50, 100],\n",
    "            'criterion' : ['gini', 'entropy'],\n",
    "            \"max_depth\": [None, 1, 5, 7, 10],\n",
    "            'min_samples_split' : [2, 5, 25],\n",
    "            'min_samples_leaf' : [1, 2, 10]}\n",
    "\n",
    "model_RF_tuned = GridSearchCV(estimator = RF_tuned, param_grid = param_RF, cv = 3, \n",
    "                          n_jobs = -1 , verbose = 1, scoring = 'recall')\n",
    "\n",
    "model_RF_tuned.fit(X_train_sm, y_train_sm)"
   ]
  },
  {
   "cell_type": "code",
   "execution_count": 74,
   "metadata": {},
   "outputs": [
    {
     "data": {
      "text/plain": [
       "RandomForestClassifier()"
      ]
     },
     "execution_count": 74,
     "metadata": {},
     "output_type": "execute_result"
    }
   ],
   "source": [
    "model_RF_tuned.best_estimator_"
   ]
  },
  {
   "cell_type": "code",
   "execution_count": 79,
   "metadata": {},
   "outputs": [
    {
     "name": "stdout",
     "output_type": "stream",
     "text": [
      "              precision    recall  f1-score   support\n",
      "\n",
      "           0       1.00      0.98      0.99       740\n",
      "           1       0.91      0.98      0.95       142\n",
      "\n",
      "    accuracy                           0.98       882\n",
      "   macro avg       0.96      0.98      0.97       882\n",
      "weighted avg       0.98      0.98      0.98       882\n",
      "\n",
      "Train Recall Score RF Tuned : 1.0\n",
      "Test Recall Score RF Tuned: 0.9788732394366197\n"
     ]
    },
    {
     "data": {
      "image/png": "[encoded data removed]",
      "text/plain": [
       "<Figure size 576x360 with 2 Axes>"
      ]
     },
     "metadata": {
      "needs_background": "light"
     },
     "output_type": "display_data"
    },
    {
     "data": {
      "text/html": [
       "<div>\n",
       "<style scoped>\n",
       "    .dataframe tbody tr th:only-of-type {\n",
       "        vertical-align: middle;\n",
       "    }\n",
       "\n",
       "    .dataframe tbody tr th {\n",
       "        vertical-align: top;\n",
       "    }\n",
       "\n",
       "    .dataframe thead th {\n",
       "        text-align: right;\n",
       "    }\n",
       "</style>\n",
       "<table border=\"1\" class=\"dataframe\">\n",
       "  <thead>\n",
       "    <tr style=\"text-align: right;\">\n",
       "      <th></th>\n",
       "      <th>Pred 1</th>\n",
       "      <th>Pred 0</th>\n",
       "    </tr>\n",
       "  </thead>\n",
       "  <tbody>\n",
       "    <tr>\n",
       "      <th>Akt 1</th>\n",
       "      <td>139</td>\n",
       "      <td>3</td>\n",
       "    </tr>\n",
       "    <tr>\n",
       "      <th>Akt 0</th>\n",
       "      <td>13</td>\n",
       "      <td>727</td>\n",
       "    </tr>\n",
       "  </tbody>\n",
       "</table>\n",
       "</div>"
      ],
      "text/plain": [
       "       Pred 1  Pred 0\n",
       "Akt 1     139       3\n",
       "Akt 0      13     727"
      ]
     },
     "execution_count": 79,
     "metadata": {},
     "output_type": "execute_result"
    }
   ],
   "source": [
    "RF_tuned= model_RF_tuned.best_estimator_\n",
    "y_pred_RF_tuned= RF_tuned.predict(X_test)\n",
    "y_pred_RF_train_tuned= RF_tuned.predict(X_train_sm)\n",
    "\n",
    "acc_RF_tuned= accuracy_score(y_test, y_pred_RF_tuned)\n",
    "prec_RF_tuned= precision_score(y_test, y_pred_RF_tuned)\n",
    "rec_RF_test_tuned= recall_score(y_test, y_pred_RF_tuned, pos_label=1)\n",
    "rec_RF_train_tuned= recall_score(y_train_sm, y_pred_RF_train_tuned)\n",
    "f1_RF_tuned= f1_score(y_test, y_pred_RF_tuned)\n",
    "recall_score(y_test, y_pred_RF_tuned, pos_label=0)\n",
    "print(classification_report(y_test, y_pred))\n",
    "\n",
    "print(f\"Train Recall Score RF Tuned : {rec_RF_train_tuned}\")\n",
    "print(f\"Test Recall Score RF Tuned: {rec_RF_test_tuned}\")\n",
    "\n",
    "plt.subplots(figsize=(8,5))\n",
    "cm = confusion_matrix(y_test, y_pred, labels=[1, 0])\n",
    "df_cm = pd.DataFrame(data=cm, columns=['Pred 1', 'Pred 0'], index = ['Akt 1', 'Akt 0'])\n",
    "sns.heatmap(df_cm, cmap= 'viridis', fmt= '.0f', annot=True)\n",
    "plt.xlabel(\"Predict\")\n",
    "plt.ylabel(\"Actual\")\n",
    "plt.show()\n",
    "\n",
    "df_cm"
   ]
  },
  {
   "cell_type": "code",
   "execution_count": 80,
   "metadata": {},
   "outputs": [
    {
     "data": {
      "image/png": "[encoded data removed]",
      "text/plain": [
       "<Figure size 1080x576 with 1 Axes>"
      ]
     },
     "metadata": {
      "needs_background": "light"
     },
     "output_type": "display_data"
    }
   ],
   "source": [
    "plt.figure(figsize=(15,8))\n",
    "sns.regplot(y_test,y_pred,fit_reg =True)\n",
    "plt.xlabel('Actual')\n",
    "plt.ylabel('Predicted')\n",
    "plt.show()"
   ]
  },
  {
   "cell_type": "markdown",
   "metadata": {},
   "source": [
    "## XGBoost + Tuning"
   ]
  },
  {
   "cell_type": "code",
   "execution_count": 97,
   "metadata": {},
   "outputs": [
    {
     "name": "stdout",
     "output_type": "stream",
     "text": [
      "Fitting 3 folds for each of 96 candidates, totalling 288 fits\n"
     ]
    },
    {
     "name": "stderr",
     "output_type": "stream",
     "text": [
      "[Parallel(n_jobs=-1)]: Using backend LokyBackend with 4 concurrent workers.\n",
      "[Parallel(n_jobs=-1)]: Done  76 tasks      | elapsed:    4.1s\n",
      "[Parallel(n_jobs=-1)]: Done 288 out of 288 | elapsed:   16.2s finished\n"
     ]
    },
    {
     "data": {
      "text/plain": [
       "GridSearchCV(cv=3,\n",
       "             estimator=XGBClassifier(base_score=None, booster=None,\n",
       "                                     colsample_bylevel=None,\n",
       "                                     colsample_bynode=None,\n",
       "                                     colsample_bytree=None, gamma=None,\n",
       "                                     gpu_id=None, importance_type='gain',\n",
       "                                     interaction_constraints=None,\n",
       "                                     learning_rate=None, max_delta_step=None,\n",
       "                                     max_depth=None, min_child_weight=None,\n",
       "                                     missing=nan, monotone_constraints=None,\n",
       "                                     n_estimators=100, n_jobs=None,\n",
       "                                     num_parallel_tree=None, random_state=None,\n",
       "                                     reg_alpha=None, reg_lambda=None,\n",
       "                                     scale_pos_weight=None, subsample=None,\n",
       "                                     tree_method=None, validate_parameters=None,\n",
       "                                     verbosity=None),\n",
       "             n_jobs=-1,\n",
       "             param_grid={'gamma': [0, 2, 0.5, 1], 'max_depth': [1, 7, 1.5, 6],\n",
       "                         'n_estimators': [10, 20, 30, 50, 70, 100]},\n",
       "             scoring='recall', verbose=1)"
      ]
     },
     "execution_count": 97,
     "metadata": {},
     "output_type": "execute_result"
    }
   ],
   "source": [
    "XGB_tuned = XGBClassifier()\n",
    "param_XGB ={'max_depth': [1, 7, 1.5, 6] ,\n",
    "             'n_estimators': [10, 20, 30, 50, 70, 100], \n",
    "             'gamma': [0, 2, 0.5, 1]}\n",
    "\n",
    "model_XGB_tuned = GridSearchCV(estimator = XGB_tuned, param_grid = param_XGB, cv = 3, \n",
    "                          n_jobs = -1 , verbose = 1, scoring = 'recall')\n",
    "\n",
    "model_XGB_tuned.fit(X_train_sm, y_train_sm)"
   ]
  },
  {
   "cell_type": "code",
   "execution_count": 98,
   "metadata": {},
   "outputs": [
    {
     "data": {
      "text/plain": [
       "XGBClassifier(base_score=0.5, booster='gbtree', colsample_bylevel=1,\n",
       "              colsample_bynode=1, colsample_bytree=1, gamma=0, gpu_id=-1,\n",
       "              importance_type='gain', interaction_constraints='',\n",
       "              learning_rate=0.300000012, max_delta_step=0, max_depth=6,\n",
       "              min_child_weight=1, missing=nan, monotone_constraints='()',\n",
       "              n_estimators=100, n_jobs=0, num_parallel_tree=1, random_state=0,\n",
       "              reg_alpha=0, reg_lambda=1, scale_pos_weight=1, subsample=1,\n",
       "              tree_method='exact', validate_parameters=1, verbosity=None)"
      ]
     },
     "execution_count": 98,
     "metadata": {},
     "output_type": "execute_result"
    }
   ],
   "source": [
    "model_XGB_tuned.best_estimator_"
   ]
  },
  {
   "cell_type": "code",
   "execution_count": 99,
   "metadata": {},
   "outputs": [
    {
     "name": "stdout",
     "output_type": "stream",
     "text": [
      "              precision    recall  f1-score   support\n",
      "\n",
      "           0       1.00      0.98      0.99       740\n",
      "           1       0.91      0.98      0.95       142\n",
      "\n",
      "    accuracy                           0.98       882\n",
      "   macro avg       0.96      0.98      0.97       882\n",
      "weighted avg       0.98      0.98      0.98       882\n",
      "\n",
      "Train Recall Score XGB Tuned : 0.9996620479891856\n",
      "Test Recall Score XGB Tuned: 0.971830985915493\n"
     ]
    },
    {
     "data": {
      "image/png": "[encoded data removed]",
      "text/plain": [
       "<Figure size 576x360 with 2 Axes>"
      ]
     },
     "metadata": {
      "needs_background": "light"
     },
     "output_type": "display_data"
    },
    {
     "data": {
      "text/html": [
       "<div>\n",
       "<style scoped>\n",
       "    .dataframe tbody tr th:only-of-type {\n",
       "        vertical-align: middle;\n",
       "    }\n",
       "\n",
       "    .dataframe tbody tr th {\n",
       "        vertical-align: top;\n",
       "    }\n",
       "\n",
       "    .dataframe thead th {\n",
       "        text-align: right;\n",
       "    }\n",
       "</style>\n",
       "<table border=\"1\" class=\"dataframe\">\n",
       "  <thead>\n",
       "    <tr style=\"text-align: right;\">\n",
       "      <th></th>\n",
       "      <th>Pred 1</th>\n",
       "      <th>Pred 0</th>\n",
       "    </tr>\n",
       "  </thead>\n",
       "  <tbody>\n",
       "    <tr>\n",
       "      <th>Akt 1</th>\n",
       "      <td>139</td>\n",
       "      <td>3</td>\n",
       "    </tr>\n",
       "    <tr>\n",
       "      <th>Akt 0</th>\n",
       "      <td>13</td>\n",
       "      <td>727</td>\n",
       "    </tr>\n",
       "  </tbody>\n",
       "</table>\n",
       "</div>"
      ],
      "text/plain": [
       "       Pred 1  Pred 0\n",
       "Akt 1     139       3\n",
       "Akt 0      13     727"
      ]
     },
     "execution_count": 99,
     "metadata": {},
     "output_type": "execute_result"
    }
   ],
   "source": [
    "XGB_tuned= model_XGB_tuned.best_estimator_\n",
    "y_pred_XGB_tuned= XGB_tuned.predict(X_test)\n",
    "y_pred_XGB_train_tuned= XGB_tuned.predict(X_train_sm)\n",
    "\n",
    "acc_XGB_tuned= accuracy_score(y_test, y_pred_XGB_tuned)\n",
    "prec_XGB_tuned= precision_score(y_test, y_pred_XGB_tuned)\n",
    "rec_XGB_test_tuned= recall_score(y_test, y_pred_XGB_tuned, pos_label=1)\n",
    "rec_XGB_train_tuned= recall_score(y_train_sm, y_pred_XGB_train_tuned)\n",
    "f1_XGB_tuned= f1_score(y_test, y_pred_XGB_tuned)\n",
    "recall_score(y_test, y_pred_XGB_tuned, pos_label=0)\n",
    "print(classification_report(y_test, y_pred))\n",
    "\n",
    "print(f\"Train Recall Score XGB Tuned : {rec_XGB_train_tuned}\")\n",
    "print(f\"Test Recall Score XGB Tuned: {rec_XGB_test_tuned}\")\n",
    "\n",
    "plt.subplots(figsize=(8,5))\n",
    "cm = confusion_matrix(y_test, y_pred, labels=[1, 0])\n",
    "df_cm = pd.DataFrame(data=cm, columns=['Pred 1', 'Pred 0'], index = ['Akt 1', 'Akt 0'])\n",
    "sns.heatmap(df_cm, cmap= 'viridis', fmt= '.0f', annot=True)\n",
    "plt.xlabel(\"Predict\")\n",
    "plt.ylabel(\"Actual\")\n",
    "plt.show()\n",
    "\n",
    "df_cm"
   ]
  },
  {
   "cell_type": "code",
   "execution_count": 100,
   "metadata": {},
   "outputs": [
    {
     "data": {
      "image/png": "[encoded data removed]",
      "text/plain": [
       "<Figure size 1080x576 with 1 Axes>"
      ]
     },
     "metadata": {
      "needs_background": "light"
     },
     "output_type": "display_data"
    }
   ],
   "source": [
    "plt.figure(figsize=(15,8))\n",
    "sns.regplot(y_test,y_pred,fit_reg =True)\n",
    "plt.xlabel('Actual')\n",
    "plt.ylabel('Predicted')\n",
    "plt.show()"
   ]
  },
  {
   "cell_type": "markdown",
   "metadata": {},
   "source": [
    "## Decision Tree Classifier + Tuning"
   ]
  },
  {
   "cell_type": "code",
   "execution_count": 84,
   "metadata": {},
   "outputs": [
    {
     "name": "stdout",
     "output_type": "stream",
     "text": [
      "Fitting 3 folds for each of 10 candidates, totalling 30 fits\n"
     ]
    },
    {
     "name": "stderr",
     "output_type": "stream",
     "text": [
      "[Parallel(n_jobs=-1)]: Using backend LokyBackend with 4 concurrent workers.\n",
      "[Parallel(n_jobs=-1)]: Done  30 out of  30 | elapsed:    0.6s finished\n"
     ]
    },
    {
     "data": {
      "text/plain": [
       "GridSearchCV(cv=3, estimator=DecisionTreeClassifier(), n_jobs=-1,\n",
       "             param_grid={'criterion': ['gini', 'entropy'],\n",
       "                         'max_depth': [1, 2, 3, 4, None]},\n",
       "             scoring='recall', verbose=1)"
      ]
     },
     "execution_count": 84,
     "metadata": {},
     "output_type": "execute_result"
    }
   ],
   "source": [
    "DT_tuned = DecisionTreeClassifier()\n",
    "param_DT = {\"max_depth\": [1, 2, 3, 4, None],\n",
    "            \"criterion\": [\"gini\", \"entropy\"] \n",
    "           }\n",
    "\n",
    "model_DT_tuned = GridSearchCV(estimator = DT_tuned, param_grid = param_DT, cv = 3, \n",
    "                          n_jobs = -1 , verbose = 1, scoring = 'recall')\n",
    "\n",
    "model_DT_tuned.fit(X_train_sm, y_train_sm)"
   ]
  },
  {
   "cell_type": "code",
   "execution_count": 85,
   "metadata": {},
   "outputs": [
    {
     "data": {
      "text/plain": [
       "DecisionTreeClassifier(criterion='entropy')"
      ]
     },
     "execution_count": 85,
     "metadata": {},
     "output_type": "execute_result"
    }
   ],
   "source": [
    "model_DT_tuned.best_estimator_"
   ]
  },
  {
   "cell_type": "code",
   "execution_count": 86,
   "metadata": {},
   "outputs": [
    {
     "name": "stdout",
     "output_type": "stream",
     "text": [
      "              precision    recall  f1-score   support\n",
      "\n",
      "           0       1.00      0.98      0.99       740\n",
      "           1       0.91      0.98      0.95       142\n",
      "\n",
      "    accuracy                           0.98       882\n",
      "   macro avg       0.96      0.98      0.97       882\n",
      "weighted avg       0.98      0.98      0.98       882\n",
      "\n",
      "Train Recall Score DT Tuned : 1.0\n",
      "Test Recall Score DT Tuned: 0.9507042253521126\n"
     ]
    },
    {
     "data": {
      "image/png": "[encoded data removed]",
      "text/plain": [
       "<Figure size 576x360 with 2 Axes>"
      ]
     },
     "metadata": {
      "needs_background": "light"
     },
     "output_type": "display_data"
    },
    {
     "data": {
      "text/html": [
       "<div>\n",
       "<style scoped>\n",
       "    .dataframe tbody tr th:only-of-type {\n",
       "        vertical-align: middle;\n",
       "    }\n",
       "\n",
       "    .dataframe tbody tr th {\n",
       "        vertical-align: top;\n",
       "    }\n",
       "\n",
       "    .dataframe thead th {\n",
       "        text-align: right;\n",
       "    }\n",
       "</style>\n",
       "<table border=\"1\" class=\"dataframe\">\n",
       "  <thead>\n",
       "    <tr style=\"text-align: right;\">\n",
       "      <th></th>\n",
       "      <th>Pred 1</th>\n",
       "      <th>Pred 0</th>\n",
       "    </tr>\n",
       "  </thead>\n",
       "  <tbody>\n",
       "    <tr>\n",
       "      <th>Akt 1</th>\n",
       "      <td>139</td>\n",
       "      <td>3</td>\n",
       "    </tr>\n",
       "    <tr>\n",
       "      <th>Akt 0</th>\n",
       "      <td>13</td>\n",
       "      <td>727</td>\n",
       "    </tr>\n",
       "  </tbody>\n",
       "</table>\n",
       "</div>"
      ],
      "text/plain": [
       "       Pred 1  Pred 0\n",
       "Akt 1     139       3\n",
       "Akt 0      13     727"
      ]
     },
     "execution_count": 86,
     "metadata": {},
     "output_type": "execute_result"
    }
   ],
   "source": [
    "DT_tuned= model_DT_tuned.best_estimator_\n",
    "y_pred_DT_tuned= DT_tuned.predict(X_test)\n",
    "y_pred_DT_train_tuned= DT_tuned.predict(X_train_sm)\n",
    "\n",
    "acc_DT_tuned= accuracy_score(y_test, y_pred_DT_tuned)\n",
    "prec_DT_tuned= precision_score(y_test, y_pred_DT_tuned)\n",
    "rec_DT_test_tuned= recall_score(y_test, y_pred_DT_tuned, pos_label=1)\n",
    "rec_DT_train_tuned= recall_score(y_train_sm, y_pred_DT_train_tuned)\n",
    "f1_DT_tuned= f1_score(y_test, y_pred_DT_tuned)\n",
    "recall_score(y_test, y_pred_DT_tuned, pos_label=0)\n",
    "print(classification_report(y_test, y_pred))\n",
    "\n",
    "print(f\"Train Recall Score DT Tuned : {rec_DT_train_tuned}\")\n",
    "print(f\"Test Recall Score DT Tuned: {rec_DT_test_tuned}\")\n",
    "\n",
    "plt.subplots(figsize=(8,5))\n",
    "cm = confusion_matrix(y_test, y_pred, labels=[1, 0])\n",
    "df_cm = pd.DataFrame(data=cm, columns=['Pred 1', 'Pred 0'], index = ['Akt 1', 'Akt 0'])\n",
    "sns.heatmap(df_cm, cmap= 'viridis', fmt= '.0f', annot=True)\n",
    "plt.xlabel(\"Predict\")\n",
    "plt.ylabel(\"Actual\")\n",
    "plt.show()\n",
    "\n",
    "df_cm"
   ]
  },
  {
   "cell_type": "code",
   "execution_count": 87,
   "metadata": {},
   "outputs": [
    {
     "data": {
      "image/png": "[encoded data removed]",
      "text/plain": [
       "<Figure size 1080x576 with 1 Axes>"
      ]
     },
     "metadata": {
      "needs_background": "light"
     },
     "output_type": "display_data"
    }
   ],
   "source": [
    "plt.figure(figsize=(15,8))\n",
    "sns.regplot(y_test,y_pred,fit_reg =True)\n",
    "plt.xlabel('Actual')\n",
    "plt.ylabel('Predicted')\n",
    "plt.show()"
   ]
  },
  {
   "cell_type": "markdown",
   "metadata": {},
   "source": [
    "# Comparing Model"
   ]
  },
  {
   "cell_type": "code",
   "execution_count": 110,
   "metadata": {},
   "outputs": [
    {
     "data": {
      "text/html": [
       "<div>\n",
       "<style scoped>\n",
       "    .dataframe tbody tr th:only-of-type {\n",
       "        vertical-align: middle;\n",
       "    }\n",
       "\n",
       "    .dataframe tbody tr th {\n",
       "        vertical-align: top;\n",
       "    }\n",
       "\n",
       "    .dataframe thead th {\n",
       "        text-align: right;\n",
       "    }\n",
       "</style>\n",
       "<table border=\"1\" class=\"dataframe\">\n",
       "  <thead>\n",
       "    <tr style=\"text-align: right;\">\n",
       "      <th></th>\n",
       "      <th>Precision</th>\n",
       "      <th>Recall Test</th>\n",
       "      <th>Recall Train</th>\n",
       "    </tr>\n",
       "  </thead>\n",
       "  <tbody>\n",
       "    <tr>\n",
       "      <th>LogReg</th>\n",
       "      <td>0.305842</td>\n",
       "      <td>0.626761</td>\n",
       "      <td>0.740453</td>\n",
       "    </tr>\n",
       "    <tr>\n",
       "      <th>LogReg_tuned</th>\n",
       "      <td>0.305842</td>\n",
       "      <td>0.626761</td>\n",
       "      <td>0.740453</td>\n",
       "    </tr>\n",
       "    <tr>\n",
       "      <th>KNN</th>\n",
       "      <td>0.395683</td>\n",
       "      <td>0.774648</td>\n",
       "      <td>0.895235</td>\n",
       "    </tr>\n",
       "    <tr>\n",
       "      <th>KNN_tuned</th>\n",
       "      <td>0.959459</td>\n",
       "      <td>1.000000</td>\n",
       "      <td>1.000000</td>\n",
       "    </tr>\n",
       "    <tr>\n",
       "      <th>RF</th>\n",
       "      <td>1.000000</td>\n",
       "      <td>0.978873</td>\n",
       "      <td>1.000000</td>\n",
       "    </tr>\n",
       "    <tr>\n",
       "      <th>RF_tuned</th>\n",
       "      <td>0.992857</td>\n",
       "      <td>0.978873</td>\n",
       "      <td>1.000000</td>\n",
       "    </tr>\n",
       "    <tr>\n",
       "      <th>XGB</th>\n",
       "      <td>0.965035</td>\n",
       "      <td>0.971831</td>\n",
       "      <td>0.999662</td>\n",
       "    </tr>\n",
       "    <tr>\n",
       "      <th>XGB_tuned</th>\n",
       "      <td>0.965035</td>\n",
       "      <td>0.971831</td>\n",
       "      <td>0.999662</td>\n",
       "    </tr>\n",
       "    <tr>\n",
       "      <th>DT</th>\n",
       "      <td>0.914474</td>\n",
       "      <td>0.978873</td>\n",
       "      <td>1.000000</td>\n",
       "    </tr>\n",
       "    <tr>\n",
       "      <th>DT_tuned</th>\n",
       "      <td>0.900000</td>\n",
       "      <td>0.950704</td>\n",
       "      <td>1.000000</td>\n",
       "    </tr>\n",
       "  </tbody>\n",
       "</table>\n",
       "</div>"
      ],
      "text/plain": [
       "              Precision  Recall Test  Recall Train\n",
       "LogReg         0.305842     0.626761      0.740453\n",
       "LogReg_tuned   0.305842     0.626761      0.740453\n",
       "KNN            0.395683     0.774648      0.895235\n",
       "KNN_tuned      0.959459     1.000000      1.000000\n",
       "RF             1.000000     0.978873      1.000000\n",
       "RF_tuned       0.992857     0.978873      1.000000\n",
       "XGB            0.965035     0.971831      0.999662\n",
       "XGB_tuned      0.965035     0.971831      0.999662\n",
       "DT             0.914474     0.978873      1.000000\n",
       "DT_tuned       0.900000     0.950704      1.000000"
      ]
     },
     "execution_count": 110,
     "metadata": {},
     "output_type": "execute_result"
    }
   ],
   "source": [
    "result_AllModel = {\n",
    "    \"LogReg\": [prec_LogReg, rec_LogReg_test, rec_LogReg_train],\n",
    "    \"LogReg_tuned\": [prec_LogReg_tuned, rec_LogReg_test_tuned, rec_LogReg_train_tuned],\n",
    "    \"KNN\": [prec_KNN, rec_KNN_test, rec_KNN_train],\n",
    "    \"KNN_tuned\": [prec_KNN_tuned, rec_KNN_test_tuned, rec_KNN_train_tuned],\n",
    "    \"RF\" : [prec_RF, rec_RF_test, rec_RF_train],\n",
    "    \"RF_tuned\" : [prec_RF_tuned, rec_RF_test_tuned, rec_RF_train_tuned],\n",
    "    \"XGB\" : [prec_XGB, rec_XGB_test, rec_XGB_train],\n",
    "    \"XGB_tuned\" : [prec_XGB_tuned, rec_XGB_test_tuned, rec_XGB_train_tuned],\n",
    "    \"DT\": [prec_DT, rec_DT_test, rec_DT_train],\n",
    "    \"DT_tuned\": [prec_DT_tuned, rec_DT_test_tuned, rec_DT_train_tuned] }\n",
    "\n",
    "pd.DataFrame(data = result_AllModel, index = ['Precision', 'Recall Test', 'Recall Train']).T"
   ]
  },
  {
   "cell_type": "markdown",
   "metadata": {},
   "source": [
    "We will using RF_tuned as our best model"
   ]
  },
  {
   "cell_type": "markdown",
   "metadata": {},
   "source": [
    "# Proba Test"
   ]
  },
  {
   "cell_type": "code",
   "execution_count": 102,
   "metadata": {},
   "outputs": [
    {
     "data": {
      "text/html": [
       "<div>\n",
       "<style scoped>\n",
       "    .dataframe tbody tr th:only-of-type {\n",
       "        vertical-align: middle;\n",
       "    }\n",
       "\n",
       "    .dataframe tbody tr th {\n",
       "        vertical-align: top;\n",
       "    }\n",
       "\n",
       "    .dataframe thead th {\n",
       "        text-align: right;\n",
       "    }\n",
       "</style>\n",
       "<table border=\"1\" class=\"dataframe\">\n",
       "  <thead>\n",
       "    <tr style=\"text-align: right;\">\n",
       "      <th></th>\n",
       "      <th>EnvironmentSatisfaction</th>\n",
       "      <th>JobSatisfaction</th>\n",
       "      <th>Age</th>\n",
       "      <th>BusinessTravel</th>\n",
       "      <th>MonthlyIncome</th>\n",
       "      <th>TotalWorkingYears</th>\n",
       "      <th>YearsAtCompany</th>\n",
       "      <th>YearsWithCurrManager</th>\n",
       "      <th>WorkingHours</th>\n",
       "    </tr>\n",
       "  </thead>\n",
       "  <tbody>\n",
       "    <tr>\n",
       "      <th>3465</th>\n",
       "      <td>2</td>\n",
       "      <td>3</td>\n",
       "      <td>41</td>\n",
       "      <td>1</td>\n",
       "      <td>52570</td>\n",
       "      <td>10</td>\n",
       "      <td>10</td>\n",
       "      <td>8</td>\n",
       "      <td>8</td>\n",
       "    </tr>\n",
       "    <tr>\n",
       "      <th>3485</th>\n",
       "      <td>3</td>\n",
       "      <td>4</td>\n",
       "      <td>34</td>\n",
       "      <td>0</td>\n",
       "      <td>26960</td>\n",
       "      <td>6</td>\n",
       "      <td>0</td>\n",
       "      <td>0</td>\n",
       "      <td>7</td>\n",
       "    </tr>\n",
       "    <tr>\n",
       "      <th>3052</th>\n",
       "      <td>3</td>\n",
       "      <td>2</td>\n",
       "      <td>21</td>\n",
       "      <td>1</td>\n",
       "      <td>53730</td>\n",
       "      <td>1</td>\n",
       "      <td>1</td>\n",
       "      <td>0</td>\n",
       "      <td>6</td>\n",
       "    </tr>\n",
       "    <tr>\n",
       "      <th>2012</th>\n",
       "      <td>1</td>\n",
       "      <td>2</td>\n",
       "      <td>28</td>\n",
       "      <td>2</td>\n",
       "      <td>29760</td>\n",
       "      <td>1</td>\n",
       "      <td>1</td>\n",
       "      <td>0</td>\n",
       "      <td>6</td>\n",
       "    </tr>\n",
       "    <tr>\n",
       "      <th>426</th>\n",
       "      <td>1</td>\n",
       "      <td>2</td>\n",
       "      <td>40</td>\n",
       "      <td>1</td>\n",
       "      <td>192320</td>\n",
       "      <td>11</td>\n",
       "      <td>1</td>\n",
       "      <td>0</td>\n",
       "      <td>6</td>\n",
       "    </tr>\n",
       "  </tbody>\n",
       "</table>\n",
       "</div>"
      ],
      "text/plain": [
       "      EnvironmentSatisfaction  JobSatisfaction  Age  BusinessTravel  \\\n",
       "3465                        2                3   41               1   \n",
       "3485                        3                4   34               0   \n",
       "3052                        3                2   21               1   \n",
       "2012                        1                2   28               2   \n",
       "426                         1                2   40               1   \n",
       "\n",
       "      MonthlyIncome  TotalWorkingYears  YearsAtCompany  YearsWithCurrManager  \\\n",
       "3465          52570                 10              10                     8   \n",
       "3485          26960                  6               0                     0   \n",
       "3052          53730                  1               1                     0   \n",
       "2012          29760                  1               1                     0   \n",
       "426          192320                 11               1                     0   \n",
       "\n",
       "      WorkingHours  \n",
       "3465             8  \n",
       "3485             7  \n",
       "3052             6  \n",
       "2012             6  \n",
       "426              6  "
      ]
     },
     "execution_count": 102,
     "metadata": {},
     "output_type": "execute_result"
    }
   ],
   "source": [
    "X_train.head()"
   ]
  },
  {
   "cell_type": "code",
   "execution_count": 113,
   "metadata": {},
   "outputs": [
    {
     "data": {
      "text/plain": [
       "EnvironmentSatisfaction       4\n",
       "JobSatisfaction               4\n",
       "Age                          43\n",
       "BusinessTravel                3\n",
       "MonthlyIncome              1337\n",
       "TotalWorkingYears            40\n",
       "YearsAtCompany               37\n",
       "YearsWithCurrManager         18\n",
       "WorkingHours                  6\n",
       "dtype: int64"
      ]
     },
     "execution_count": 113,
     "metadata": {},
     "output_type": "execute_result"
    }
   ],
   "source": [
    "X_train.nunique()"
   ]
  },
  {
   "cell_type": "code",
   "execution_count": 114,
   "metadata": {},
   "outputs": [
    {
     "data": {
      "text/plain": [
       "array([[    3,     4,    34,     1, 23230,     4,     3,     2,     7],\n",
       "       [    4,     3,    37,     1, 56470,     7,     0,     0,     9],\n",
       "       [    4,     3,    32,     2, 50700,    10,     8,     7,     9],\n",
       "       [    2,     4,    34,     1, 53810,    10,    10,     8,     8]])"
      ]
     },
     "execution_count": 114,
     "metadata": {},
     "output_type": "execute_result"
    }
   ],
   "source": [
    "X_train.drop_duplicates().sample(4).values"
   ]
  },
  {
   "cell_type": "code",
   "execution_count": 118,
   "metadata": {},
   "outputs": [],
   "source": [
    "dfDesc = []\n",
    "\n",
    "for i in X_train.columns:\n",
    "    dfDesc.append([\n",
    "        i,\n",
    "        X_train[i].dtypes,\n",
    "        X_train[i].isna().sum(),\n",
    "        (((X_train[i].isna().sum()) / len(X_train)) * 100).round(2),\n",
    "        X_train[i].nunique(),\n",
    "        X_train[i].drop_duplicates().sample(3).values\n",
    "    ])"
   ]
  },
  {
   "cell_type": "code",
   "execution_count": 119,
   "metadata": {},
   "outputs": [
    {
     "data": {
      "text/html": [
       "<div>\n",
       "<style scoped>\n",
       "    .dataframe tbody tr th:only-of-type {\n",
       "        vertical-align: middle;\n",
       "    }\n",
       "\n",
       "    .dataframe tbody tr th {\n",
       "        vertical-align: top;\n",
       "    }\n",
       "\n",
       "    .dataframe thead th {\n",
       "        text-align: right;\n",
       "    }\n",
       "</style>\n",
       "<table border=\"1\" class=\"dataframe\">\n",
       "  <thead>\n",
       "    <tr style=\"text-align: right;\">\n",
       "      <th></th>\n",
       "      <th>Data Features</th>\n",
       "      <th>Data Type</th>\n",
       "      <th>Null</th>\n",
       "      <th>Null (%)</th>\n",
       "      <th>Unique</th>\n",
       "      <th>Unique Sample</th>\n",
       "    </tr>\n",
       "  </thead>\n",
       "  <tbody>\n",
       "    <tr>\n",
       "      <th>0</th>\n",
       "      <td>EnvironmentSatisfaction</td>\n",
       "      <td>int64</td>\n",
       "      <td>0</td>\n",
       "      <td>0.0</td>\n",
       "      <td>4</td>\n",
       "      <td>[3, 1, 2]</td>\n",
       "    </tr>\n",
       "    <tr>\n",
       "      <th>1</th>\n",
       "      <td>JobSatisfaction</td>\n",
       "      <td>int64</td>\n",
       "      <td>0</td>\n",
       "      <td>0.0</td>\n",
       "      <td>4</td>\n",
       "      <td>[4, 1, 3]</td>\n",
       "    </tr>\n",
       "    <tr>\n",
       "      <th>2</th>\n",
       "      <td>Age</td>\n",
       "      <td>int64</td>\n",
       "      <td>0</td>\n",
       "      <td>0.0</td>\n",
       "      <td>43</td>\n",
       "      <td>[36, 28, 29]</td>\n",
       "    </tr>\n",
       "    <tr>\n",
       "      <th>3</th>\n",
       "      <td>BusinessTravel</td>\n",
       "      <td>int64</td>\n",
       "      <td>0</td>\n",
       "      <td>0.0</td>\n",
       "      <td>3</td>\n",
       "      <td>[2, 0, 1]</td>\n",
       "    </tr>\n",
       "    <tr>\n",
       "      <th>4</th>\n",
       "      <td>MonthlyIncome</td>\n",
       "      <td>int64</td>\n",
       "      <td>0</td>\n",
       "      <td>0.0</td>\n",
       "      <td>1337</td>\n",
       "      <td>[35050, 176650, 68150]</td>\n",
       "    </tr>\n",
       "    <tr>\n",
       "      <th>5</th>\n",
       "      <td>TotalWorkingYears</td>\n",
       "      <td>int64</td>\n",
       "      <td>0</td>\n",
       "      <td>0.0</td>\n",
       "      <td>40</td>\n",
       "      <td>[37, 29, 28]</td>\n",
       "    </tr>\n",
       "    <tr>\n",
       "      <th>6</th>\n",
       "      <td>YearsAtCompany</td>\n",
       "      <td>int64</td>\n",
       "      <td>0</td>\n",
       "      <td>0.0</td>\n",
       "      <td>37</td>\n",
       "      <td>[4, 3, 1]</td>\n",
       "    </tr>\n",
       "    <tr>\n",
       "      <th>7</th>\n",
       "      <td>YearsWithCurrManager</td>\n",
       "      <td>int64</td>\n",
       "      <td>0</td>\n",
       "      <td>0.0</td>\n",
       "      <td>18</td>\n",
       "      <td>[9, 14, 1]</td>\n",
       "    </tr>\n",
       "    <tr>\n",
       "      <th>8</th>\n",
       "      <td>WorkingHours</td>\n",
       "      <td>int64</td>\n",
       "      <td>0</td>\n",
       "      <td>0.0</td>\n",
       "      <td>6</td>\n",
       "      <td>[8, 9, 10]</td>\n",
       "    </tr>\n",
       "  </tbody>\n",
       "</table>\n",
       "</div>"
      ],
      "text/plain": [
       "             Data Features Data Type  Null  Null (%)  Unique  \\\n",
       "0  EnvironmentSatisfaction     int64     0       0.0       4   \n",
       "1          JobSatisfaction     int64     0       0.0       4   \n",
       "2                      Age     int64     0       0.0      43   \n",
       "3           BusinessTravel     int64     0       0.0       3   \n",
       "4            MonthlyIncome     int64     0       0.0    1337   \n",
       "5        TotalWorkingYears     int64     0       0.0      40   \n",
       "6           YearsAtCompany     int64     0       0.0      37   \n",
       "7     YearsWithCurrManager     int64     0       0.0      18   \n",
       "8             WorkingHours     int64     0       0.0       6   \n",
       "\n",
       "            Unique Sample  \n",
       "0               [3, 1, 2]  \n",
       "1               [4, 1, 3]  \n",
       "2            [36, 28, 29]  \n",
       "3               [2, 0, 1]  \n",
       "4  [35050, 176650, 68150]  \n",
       "5            [37, 29, 28]  \n",
       "6               [4, 3, 1]  \n",
       "7              [9, 14, 1]  \n",
       "8              [8, 9, 10]  "
      ]
     },
     "execution_count": 119,
     "metadata": {},
     "output_type": "execute_result"
    }
   ],
   "source": [
    "pd.DataFrame(dfDesc, columns= ['Data Features', 'Data Type', 'Null', 'Null (%)', 'Unique', 'Unique Sample'])"
   ]
  },
  {
   "cell_type": "code",
   "execution_count": 105,
   "metadata": {},
   "outputs": [
    {
     "data": {
      "text/plain": [
       "0"
      ]
     },
     "execution_count": 105,
     "metadata": {},
     "output_type": "execute_result"
    }
   ],
   "source": [
    "employee1= [2,4,38,3,44900,2,10,5,3]\n",
    "model_RF_tuned.predict([employee1])[0]"
   ]
  },
  {
   "cell_type": "code",
   "execution_count": 106,
   "metadata": {},
   "outputs": [
    {
     "data": {
      "text/plain": [
       "0"
      ]
     },
     "execution_count": 106,
     "metadata": {},
     "output_type": "execute_result"
    }
   ],
   "source": [
    "employee2= [3,1,45,29,29730,1,10,10,4]\n",
    "model_RF_tuned.predict([employee2])[0]"
   ]
  },
  {
   "cell_type": "code",
   "execution_count": 107,
   "metadata": {},
   "outputs": [
    {
     "data": {
      "text/plain": [
       "0"
      ]
     },
     "execution_count": 107,
     "metadata": {},
     "output_type": "execute_result"
    }
   ],
   "source": [
    "employee3= [3,2,55,6,26550,8,36,24,15]\n",
    "model_RF_tuned.predict([employee3])[0]"
   ]
  },
  {
   "cell_type": "code",
   "execution_count": 108,
   "metadata": {},
   "outputs": [
    {
     "data": {
      "text/plain": [
       "1"
      ]
     },
     "execution_count": 108,
     "metadata": {},
     "output_type": "execute_result"
    }
   ],
   "source": [
    "employee4= [3,2,31,10,41890,0,6,5,4]\n",
    "model_RF_tuned.predict([employee4])[0]"
   ]
  },
  {
   "cell_type": "code",
   "execution_count": 109,
   "metadata": {},
   "outputs": [
    {
     "data": {
      "text/plain": [
       "0"
      ]
     },
     "execution_count": 109,
     "metadata": {},
     "output_type": "execute_result"
    }
   ],
   "source": [
    "employee5= [4,3,2,37,1,0,5,20860,4,14,17,3,3,1,0,3,9]\n",
    "model_RF_tuned.predict([employee1])[0]"
   ]
  },
  {
   "cell_type": "markdown",
   "metadata": {},
   "source": [
    "# Export Model"
   ]
  },
  {
   "cell_type": "code",
   "execution_count": 111,
   "metadata": {},
   "outputs": [
    {
     "data": {
      "text/plain": [
       "['employee_attrition_RF_tuned']"
      ]
     },
     "execution_count": 111,
     "metadata": {},
     "output_type": "execute_result"
    }
   ],
   "source": [
    "joblib.dump(model_RF_tuned,'employee_attrition_RF_tuned')"
   ]
  },
  {
   "cell_type": "code",
   "execution_count": null,
   "metadata": {},
   "outputs": [],
   "source": []
  }
 ],
 "metadata": {
  "kernelspec": {
   "display_name": "Python 3",
   "language": "python",
   "name": "python3"
  },
  "language_info": {
   "codemirror_mode": {
    "name": "ipython",
    "version": 3
   },
   "file_extension": ".py",
   "mimetype": "text/x-python",
   "name": "python",
   "nbconvert_exporter": "python",
   "pygments_lexer": "ipython3",
   "version": "3.8.3"
  }
 },
 "nbformat": 4,
 "nbformat_minor": 4
}
